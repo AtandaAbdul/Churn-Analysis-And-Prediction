{
 "cells": [
  {
   "cell_type": "code",
   "execution_count": 1,
   "metadata": {
    "_cell_guid": "b1076dfc-b9ad-4769-8c92-a6c4dae69d19",
    "_uuid": "8f2839f25d086af736a60e9eeb907d3b93b6e0e5"
   },
   "outputs": [],
   "source": [
    "# Import libraries we'll need\n",
    "\n",
    "import numpy as np \n",
    "import pandas as pd\n",
    "\n",
    "#visualization\n",
    "import seaborn as sns\n",
    "import matplotlib.pyplot as plt\n",
    "%matplotlib inline"
   ]
  },
  {
   "cell_type": "markdown",
   "metadata": {
    "_uuid": "e2d149fb0508a92a3777c45ef8bbc41e7b929c1a"
   },
   "source": [
    "# Get the data"
   ]
  },
  {
   "cell_type": "code",
   "execution_count": 27,
   "metadata": {
    "_cell_guid": "79c7e3d0-c299-4dcb-8224-4455121ee9b0",
    "_uuid": "d629ff2d2480ee46fbb7e2d37f6b5fab8052498a"
   },
   "outputs": [
    {
     "data": {
      "text/html": [
       "<div>\n",
       "<style scoped>\n",
       "    .dataframe tbody tr th:only-of-type {\n",
       "        vertical-align: middle;\n",
       "    }\n",
       "\n",
       "    .dataframe tbody tr th {\n",
       "        vertical-align: top;\n",
       "    }\n",
       "\n",
       "    .dataframe thead th {\n",
       "        text-align: right;\n",
       "    }\n",
       "</style>\n",
       "<table border=\"1\" class=\"dataframe\">\n",
       "  <thead>\n",
       "    <tr style=\"text-align: right;\">\n",
       "      <th></th>\n",
       "      <th>customerID</th>\n",
       "      <th>gender</th>\n",
       "      <th>SeniorCitizen</th>\n",
       "      <th>Partner</th>\n",
       "      <th>Dependents</th>\n",
       "      <th>tenure</th>\n",
       "      <th>PhoneService</th>\n",
       "      <th>MultipleLines</th>\n",
       "      <th>InternetService</th>\n",
       "      <th>OnlineSecurity</th>\n",
       "      <th>...</th>\n",
       "      <th>StreamingTV</th>\n",
       "      <th>StreamingMovies</th>\n",
       "      <th>Contract</th>\n",
       "      <th>PaperlessBilling</th>\n",
       "      <th>PaymentMethod</th>\n",
       "      <th>MonthlyCharges</th>\n",
       "      <th>TotalCharges</th>\n",
       "      <th>numAdminTickets</th>\n",
       "      <th>numTechTickets</th>\n",
       "      <th>Churn</th>\n",
       "    </tr>\n",
       "  </thead>\n",
       "  <tbody>\n",
       "    <tr>\n",
       "      <th>0</th>\n",
       "      <td>7590-VHVEG</td>\n",
       "      <td>Female</td>\n",
       "      <td>0</td>\n",
       "      <td>Yes</td>\n",
       "      <td>No</td>\n",
       "      <td>1</td>\n",
       "      <td>No</td>\n",
       "      <td>No phone service</td>\n",
       "      <td>DSL</td>\n",
       "      <td>No</td>\n",
       "      <td>...</td>\n",
       "      <td>No</td>\n",
       "      <td>No</td>\n",
       "      <td>Month-to-month</td>\n",
       "      <td>Yes</td>\n",
       "      <td>Electronic check</td>\n",
       "      <td>29.85</td>\n",
       "      <td>29.85</td>\n",
       "      <td>0</td>\n",
       "      <td>0</td>\n",
       "      <td>No</td>\n",
       "    </tr>\n",
       "    <tr>\n",
       "      <th>1</th>\n",
       "      <td>5575-GNVDE</td>\n",
       "      <td>Male</td>\n",
       "      <td>0</td>\n",
       "      <td>No</td>\n",
       "      <td>No</td>\n",
       "      <td>34</td>\n",
       "      <td>Yes</td>\n",
       "      <td>No</td>\n",
       "      <td>DSL</td>\n",
       "      <td>Yes</td>\n",
       "      <td>...</td>\n",
       "      <td>No</td>\n",
       "      <td>No</td>\n",
       "      <td>One year</td>\n",
       "      <td>No</td>\n",
       "      <td>Mailed check</td>\n",
       "      <td>56.95</td>\n",
       "      <td>1889.5</td>\n",
       "      <td>0</td>\n",
       "      <td>0</td>\n",
       "      <td>No</td>\n",
       "    </tr>\n",
       "    <tr>\n",
       "      <th>2</th>\n",
       "      <td>3668-QPYBK</td>\n",
       "      <td>Male</td>\n",
       "      <td>0</td>\n",
       "      <td>No</td>\n",
       "      <td>No</td>\n",
       "      <td>2</td>\n",
       "      <td>Yes</td>\n",
       "      <td>No</td>\n",
       "      <td>DSL</td>\n",
       "      <td>Yes</td>\n",
       "      <td>...</td>\n",
       "      <td>No</td>\n",
       "      <td>No</td>\n",
       "      <td>Month-to-month</td>\n",
       "      <td>Yes</td>\n",
       "      <td>Mailed check</td>\n",
       "      <td>53.85</td>\n",
       "      <td>108.15</td>\n",
       "      <td>0</td>\n",
       "      <td>0</td>\n",
       "      <td>Yes</td>\n",
       "    </tr>\n",
       "    <tr>\n",
       "      <th>3</th>\n",
       "      <td>7795-CFOCW</td>\n",
       "      <td>Male</td>\n",
       "      <td>0</td>\n",
       "      <td>No</td>\n",
       "      <td>No</td>\n",
       "      <td>45</td>\n",
       "      <td>No</td>\n",
       "      <td>No phone service</td>\n",
       "      <td>DSL</td>\n",
       "      <td>Yes</td>\n",
       "      <td>...</td>\n",
       "      <td>No</td>\n",
       "      <td>No</td>\n",
       "      <td>One year</td>\n",
       "      <td>No</td>\n",
       "      <td>Bank transfer (automatic)</td>\n",
       "      <td>42.30</td>\n",
       "      <td>1840.75</td>\n",
       "      <td>0</td>\n",
       "      <td>3</td>\n",
       "      <td>No</td>\n",
       "    </tr>\n",
       "    <tr>\n",
       "      <th>4</th>\n",
       "      <td>9237-HQITU</td>\n",
       "      <td>Female</td>\n",
       "      <td>0</td>\n",
       "      <td>No</td>\n",
       "      <td>No</td>\n",
       "      <td>2</td>\n",
       "      <td>Yes</td>\n",
       "      <td>No</td>\n",
       "      <td>Fiber optic</td>\n",
       "      <td>No</td>\n",
       "      <td>...</td>\n",
       "      <td>No</td>\n",
       "      <td>No</td>\n",
       "      <td>Month-to-month</td>\n",
       "      <td>Yes</td>\n",
       "      <td>Electronic check</td>\n",
       "      <td>70.70</td>\n",
       "      <td>151.65</td>\n",
       "      <td>0</td>\n",
       "      <td>0</td>\n",
       "      <td>Yes</td>\n",
       "    </tr>\n",
       "  </tbody>\n",
       "</table>\n",
       "<p>5 rows × 23 columns</p>\n",
       "</div>"
      ],
      "text/plain": [
       "   customerID  gender  SeniorCitizen Partner Dependents  tenure PhoneService  \\\n",
       "0  7590-VHVEG  Female              0     Yes         No       1           No   \n",
       "1  5575-GNVDE    Male              0      No         No      34          Yes   \n",
       "2  3668-QPYBK    Male              0      No         No       2          Yes   \n",
       "3  7795-CFOCW    Male              0      No         No      45           No   \n",
       "4  9237-HQITU  Female              0      No         No       2          Yes   \n",
       "\n",
       "      MultipleLines InternetService OnlineSecurity  ... StreamingTV  \\\n",
       "0  No phone service             DSL             No  ...          No   \n",
       "1                No             DSL            Yes  ...          No   \n",
       "2                No             DSL            Yes  ...          No   \n",
       "3  No phone service             DSL            Yes  ...          No   \n",
       "4                No     Fiber optic             No  ...          No   \n",
       "\n",
       "  StreamingMovies        Contract PaperlessBilling              PaymentMethod  \\\n",
       "0              No  Month-to-month              Yes           Electronic check   \n",
       "1              No        One year               No               Mailed check   \n",
       "2              No  Month-to-month              Yes               Mailed check   \n",
       "3              No        One year               No  Bank transfer (automatic)   \n",
       "4              No  Month-to-month              Yes           Electronic check   \n",
       "\n",
       "  MonthlyCharges TotalCharges numAdminTickets  numTechTickets Churn  \n",
       "0          29.85        29.85               0               0    No  \n",
       "1          56.95       1889.5               0               0    No  \n",
       "2          53.85       108.15               0               0   Yes  \n",
       "3          42.30      1840.75               0               3    No  \n",
       "4          70.70       151.65               0               0   Yes  \n",
       "\n",
       "[5 rows x 23 columns]"
      ]
     },
     "execution_count": 27,
     "metadata": {},
     "output_type": "execute_result"
    }
   ],
   "source": [
    "df = pd.read_excel('02 Churn-Dataset.xlsx')\n",
    "df.head()"
   ]
  },
  {
   "cell_type": "markdown",
   "metadata": {
    "_uuid": "1984572a2aaf969d40af01508c470b6b80465fb3"
   },
   "source": [
    "# Understand & clean the data"
   ]
  },
  {
   "cell_type": "code",
   "execution_count": 3,
   "metadata": {
    "_uuid": "bad4fde79b34960996bdbe15827bb9d4aff91a09"
   },
   "outputs": [
    {
     "data": {
      "text/plain": [
       "customerID           object\n",
       "gender               object\n",
       "SeniorCitizen         int64\n",
       "Partner              object\n",
       "Dependents           object\n",
       "tenure                int64\n",
       "PhoneService         object\n",
       "MultipleLines        object\n",
       "InternetService      object\n",
       "OnlineSecurity       object\n",
       "OnlineBackup         object\n",
       "DeviceProtection     object\n",
       "TechSupport          object\n",
       "StreamingTV          object\n",
       "StreamingMovies      object\n",
       "Contract             object\n",
       "PaperlessBilling     object\n",
       "PaymentMethod        object\n",
       "MonthlyCharges      float64\n",
       "TotalCharges         object\n",
       "numAdminTickets       int64\n",
       "numTechTickets        int64\n",
       "Churn                object\n",
       "dtype: object"
      ]
     },
     "execution_count": 3,
     "metadata": {},
     "output_type": "execute_result"
    }
   ],
   "source": [
    "df.dtypes"
   ]
  },
  {
   "cell_type": "markdown",
   "metadata": {
    "_uuid": "8d18328ff2e2ecaef8483bb84357cbc082f8d5a4"
   },
   "source": [
    "View the unique data by column. There are a few columns we can convert to binary."
   ]
  },
  {
   "cell_type": "code",
   "execution_count": 4,
   "metadata": {
    "_uuid": "10342cdbf7d96670a01c00608226ee3187c3b734"
   },
   "outputs": [
    {
     "name": "stdout",
     "output_type": "stream",
     "text": [
      "customerID\n",
      "['7590-VHVEG' '5575-GNVDE' '3668-QPYBK' ... '4801-JZAZL' '8361-LTMKD'\n",
      " '3186-AJIEK']\n",
      "gender\n",
      "['Female' 'Male']\n",
      "SeniorCitizen\n",
      "[0 1]\n",
      "Partner\n",
      "['Yes' 'No']\n",
      "Dependents\n",
      "['No' 'Yes']\n",
      "tenure\n",
      "[ 1 34  2 45  8 22 10 28 62 13 16 58 49 25 69 52 71 21 12 30 47 72 17 27\n",
      "  5 46 11 70 63 43 15 60 18 66  9  3 31 50 64 56  7 42 35 48 29 65 38 68\n",
      " 32 55 37 36 41  6  4 33 67 23 57 61 14 20 53 40 59 24 44 19 54 51 26  0\n",
      " 39]\n",
      "PhoneService\n",
      "['No' 'Yes']\n",
      "MultipleLines\n",
      "['No phone service' 'No' 'Yes']\n",
      "InternetService\n",
      "['DSL' 'Fiber optic' 'No']\n",
      "OnlineSecurity\n",
      "['No' 'Yes' 'No internet service']\n",
      "OnlineBackup\n",
      "['Yes' 'No' 'No internet service']\n",
      "DeviceProtection\n",
      "['No' 'Yes' 'No internet service']\n",
      "TechSupport\n",
      "['No' 'Yes' 'No internet service']\n",
      "StreamingTV\n",
      "['No' 'Yes' 'No internet service']\n",
      "StreamingMovies\n",
      "['No' 'Yes' 'No internet service']\n",
      "Contract\n",
      "['Month-to-month' 'One year' 'Two year']\n",
      "PaperlessBilling\n",
      "['Yes' 'No']\n",
      "PaymentMethod\n",
      "['Electronic check' 'Mailed check' 'Bank transfer (automatic)'\n",
      " 'Credit card (automatic)']\n",
      "MonthlyCharges\n",
      "[29.85 56.95 53.85 ... 63.1  44.2  78.7 ]\n",
      "TotalCharges\n",
      "[29.85 1889.5 108.15 ... 346.45 306.6 6844.5]\n",
      "numAdminTickets\n",
      "[0 1 5 2 4 3]\n",
      "numTechTickets\n",
      "[0 3 2 4 1 6 5 7 8 9]\n",
      "Churn\n",
      "['No' 'Yes']\n"
     ]
    }
   ],
   "source": [
    "for item in df.columns:\n",
    "    print(item)\n",
    "    print (df[item].unique())"
   ]
  },
  {
   "cell_type": "markdown",
   "metadata": {
    "_uuid": "ebbe730ef9b9418a76ff51339429c83ce7d7ba7d"
   },
   "source": [
    "Let's convert strings to lowercase. "
   ]
  },
  {
   "cell_type": "code",
   "execution_count": 5,
   "metadata": {
    "_uuid": "e788256a7a56644ee240e89b4d677633fe91e9b2"
   },
   "outputs": [
    {
     "name": "stdout",
     "output_type": "stream",
     "text": [
      "SeniorCitizen couldn't convert\n",
      "tenure couldn't convert\n",
      "MonthlyCharges couldn't convert\n",
      "numAdminTickets couldn't convert\n",
      "numTechTickets couldn't convert\n"
     ]
    },
    {
     "data": {
      "text/html": [
       "<div>\n",
       "<style scoped>\n",
       "    .dataframe tbody tr th:only-of-type {\n",
       "        vertical-align: middle;\n",
       "    }\n",
       "\n",
       "    .dataframe tbody tr th {\n",
       "        vertical-align: top;\n",
       "    }\n",
       "\n",
       "    .dataframe thead th {\n",
       "        text-align: right;\n",
       "    }\n",
       "</style>\n",
       "<table border=\"1\" class=\"dataframe\">\n",
       "  <thead>\n",
       "    <tr style=\"text-align: right;\">\n",
       "      <th></th>\n",
       "      <th>customerID</th>\n",
       "      <th>gender</th>\n",
       "      <th>SeniorCitizen</th>\n",
       "      <th>Partner</th>\n",
       "      <th>Dependents</th>\n",
       "      <th>tenure</th>\n",
       "      <th>PhoneService</th>\n",
       "      <th>MultipleLines</th>\n",
       "      <th>InternetService</th>\n",
       "      <th>OnlineSecurity</th>\n",
       "      <th>...</th>\n",
       "      <th>StreamingTV</th>\n",
       "      <th>StreamingMovies</th>\n",
       "      <th>Contract</th>\n",
       "      <th>PaperlessBilling</th>\n",
       "      <th>PaymentMethod</th>\n",
       "      <th>MonthlyCharges</th>\n",
       "      <th>TotalCharges</th>\n",
       "      <th>numAdminTickets</th>\n",
       "      <th>numTechTickets</th>\n",
       "      <th>Churn</th>\n",
       "    </tr>\n",
       "  </thead>\n",
       "  <tbody>\n",
       "    <tr>\n",
       "      <th>0</th>\n",
       "      <td>7590-vhveg</td>\n",
       "      <td>female</td>\n",
       "      <td>0</td>\n",
       "      <td>yes</td>\n",
       "      <td>no</td>\n",
       "      <td>1</td>\n",
       "      <td>no</td>\n",
       "      <td>no phone service</td>\n",
       "      <td>dsl</td>\n",
       "      <td>no</td>\n",
       "      <td>...</td>\n",
       "      <td>no</td>\n",
       "      <td>no</td>\n",
       "      <td>month-to-month</td>\n",
       "      <td>yes</td>\n",
       "      <td>electronic check</td>\n",
       "      <td>29.85</td>\n",
       "      <td>NaN</td>\n",
       "      <td>0</td>\n",
       "      <td>0</td>\n",
       "      <td>no</td>\n",
       "    </tr>\n",
       "    <tr>\n",
       "      <th>1</th>\n",
       "      <td>5575-gnvde</td>\n",
       "      <td>male</td>\n",
       "      <td>0</td>\n",
       "      <td>no</td>\n",
       "      <td>no</td>\n",
       "      <td>34</td>\n",
       "      <td>yes</td>\n",
       "      <td>no</td>\n",
       "      <td>dsl</td>\n",
       "      <td>yes</td>\n",
       "      <td>...</td>\n",
       "      <td>no</td>\n",
       "      <td>no</td>\n",
       "      <td>one year</td>\n",
       "      <td>no</td>\n",
       "      <td>mailed check</td>\n",
       "      <td>56.95</td>\n",
       "      <td>NaN</td>\n",
       "      <td>0</td>\n",
       "      <td>0</td>\n",
       "      <td>no</td>\n",
       "    </tr>\n",
       "    <tr>\n",
       "      <th>2</th>\n",
       "      <td>3668-qpybk</td>\n",
       "      <td>male</td>\n",
       "      <td>0</td>\n",
       "      <td>no</td>\n",
       "      <td>no</td>\n",
       "      <td>2</td>\n",
       "      <td>yes</td>\n",
       "      <td>no</td>\n",
       "      <td>dsl</td>\n",
       "      <td>yes</td>\n",
       "      <td>...</td>\n",
       "      <td>no</td>\n",
       "      <td>no</td>\n",
       "      <td>month-to-month</td>\n",
       "      <td>yes</td>\n",
       "      <td>mailed check</td>\n",
       "      <td>53.85</td>\n",
       "      <td>NaN</td>\n",
       "      <td>0</td>\n",
       "      <td>0</td>\n",
       "      <td>yes</td>\n",
       "    </tr>\n",
       "    <tr>\n",
       "      <th>3</th>\n",
       "      <td>7795-cfocw</td>\n",
       "      <td>male</td>\n",
       "      <td>0</td>\n",
       "      <td>no</td>\n",
       "      <td>no</td>\n",
       "      <td>45</td>\n",
       "      <td>no</td>\n",
       "      <td>no phone service</td>\n",
       "      <td>dsl</td>\n",
       "      <td>yes</td>\n",
       "      <td>...</td>\n",
       "      <td>no</td>\n",
       "      <td>no</td>\n",
       "      <td>one year</td>\n",
       "      <td>no</td>\n",
       "      <td>bank transfer (automatic)</td>\n",
       "      <td>42.30</td>\n",
       "      <td>NaN</td>\n",
       "      <td>0</td>\n",
       "      <td>3</td>\n",
       "      <td>no</td>\n",
       "    </tr>\n",
       "    <tr>\n",
       "      <th>4</th>\n",
       "      <td>9237-hqitu</td>\n",
       "      <td>female</td>\n",
       "      <td>0</td>\n",
       "      <td>no</td>\n",
       "      <td>no</td>\n",
       "      <td>2</td>\n",
       "      <td>yes</td>\n",
       "      <td>no</td>\n",
       "      <td>fiber optic</td>\n",
       "      <td>no</td>\n",
       "      <td>...</td>\n",
       "      <td>no</td>\n",
       "      <td>no</td>\n",
       "      <td>month-to-month</td>\n",
       "      <td>yes</td>\n",
       "      <td>electronic check</td>\n",
       "      <td>70.70</td>\n",
       "      <td>NaN</td>\n",
       "      <td>0</td>\n",
       "      <td>0</td>\n",
       "      <td>yes</td>\n",
       "    </tr>\n",
       "  </tbody>\n",
       "</table>\n",
       "<p>5 rows × 23 columns</p>\n",
       "</div>"
      ],
      "text/plain": [
       "   customerID  gender  SeniorCitizen Partner Dependents  tenure PhoneService  \\\n",
       "0  7590-vhveg  female              0     yes         no       1           no   \n",
       "1  5575-gnvde    male              0      no         no      34          yes   \n",
       "2  3668-qpybk    male              0      no         no       2          yes   \n",
       "3  7795-cfocw    male              0      no         no      45           no   \n",
       "4  9237-hqitu  female              0      no         no       2          yes   \n",
       "\n",
       "      MultipleLines InternetService OnlineSecurity  ... StreamingTV  \\\n",
       "0  no phone service             dsl             no  ...          no   \n",
       "1                no             dsl            yes  ...          no   \n",
       "2                no             dsl            yes  ...          no   \n",
       "3  no phone service             dsl            yes  ...          no   \n",
       "4                no     fiber optic             no  ...          no   \n",
       "\n",
       "  StreamingMovies        Contract PaperlessBilling              PaymentMethod  \\\n",
       "0              no  month-to-month              yes           electronic check   \n",
       "1              no        one year               no               mailed check   \n",
       "2              no  month-to-month              yes               mailed check   \n",
       "3              no        one year               no  bank transfer (automatic)   \n",
       "4              no  month-to-month              yes           electronic check   \n",
       "\n",
       "  MonthlyCharges TotalCharges numAdminTickets  numTechTickets Churn  \n",
       "0          29.85          NaN               0               0    no  \n",
       "1          56.95          NaN               0               0    no  \n",
       "2          53.85          NaN               0               0   yes  \n",
       "3          42.30          NaN               0               3    no  \n",
       "4          70.70          NaN               0               0   yes  \n",
       "\n",
       "[5 rows x 23 columns]"
      ]
     },
     "execution_count": 5,
     "metadata": {},
     "output_type": "execute_result"
    }
   ],
   "source": [
    "for item in df.columns:\n",
    "    try:\n",
    "        df[item] = df[item].str.lower()\n",
    "    except:\n",
    "        print(item, \"couldn't convert\")\n",
    "df.head()"
   ]
  },
  {
   "cell_type": "markdown",
   "metadata": {
    "_uuid": "f1947d524368ec97073de6dc9c397ce24ef35d94"
   },
   "source": [
    "Convert all yes and no to 0's & 1's so our classifier can use this data."
   ]
  },
  {
   "cell_type": "code",
   "execution_count": 6,
   "metadata": {
    "_uuid": "ec8e947a7feee183f3b98cb1269a829c40815751"
   },
   "outputs": [
    {
     "data": {
      "text/html": [
       "<div>\n",
       "<style scoped>\n",
       "    .dataframe tbody tr th:only-of-type {\n",
       "        vertical-align: middle;\n",
       "    }\n",
       "\n",
       "    .dataframe tbody tr th {\n",
       "        vertical-align: top;\n",
       "    }\n",
       "\n",
       "    .dataframe thead th {\n",
       "        text-align: right;\n",
       "    }\n",
       "</style>\n",
       "<table border=\"1\" class=\"dataframe\">\n",
       "  <thead>\n",
       "    <tr style=\"text-align: right;\">\n",
       "      <th></th>\n",
       "      <th>customerID</th>\n",
       "      <th>gender</th>\n",
       "      <th>SeniorCitizen</th>\n",
       "      <th>Partner</th>\n",
       "      <th>Dependents</th>\n",
       "      <th>tenure</th>\n",
       "      <th>PhoneService</th>\n",
       "      <th>MultipleLines</th>\n",
       "      <th>InternetService</th>\n",
       "      <th>OnlineSecurity</th>\n",
       "      <th>...</th>\n",
       "      <th>StreamingTV</th>\n",
       "      <th>StreamingMovies</th>\n",
       "      <th>Contract</th>\n",
       "      <th>PaperlessBilling</th>\n",
       "      <th>PaymentMethod</th>\n",
       "      <th>MonthlyCharges</th>\n",
       "      <th>TotalCharges</th>\n",
       "      <th>numAdminTickets</th>\n",
       "      <th>numTechTickets</th>\n",
       "      <th>Churn</th>\n",
       "    </tr>\n",
       "  </thead>\n",
       "  <tbody>\n",
       "    <tr>\n",
       "      <th>0</th>\n",
       "      <td>7590-vhveg</td>\n",
       "      <td>female</td>\n",
       "      <td>0</td>\n",
       "      <td>1</td>\n",
       "      <td>0</td>\n",
       "      <td>1</td>\n",
       "      <td>0</td>\n",
       "      <td>no phone service</td>\n",
       "      <td>dsl</td>\n",
       "      <td>no</td>\n",
       "      <td>...</td>\n",
       "      <td>no</td>\n",
       "      <td>no</td>\n",
       "      <td>month-to-month</td>\n",
       "      <td>1</td>\n",
       "      <td>electronic check</td>\n",
       "      <td>29.85</td>\n",
       "      <td>NaN</td>\n",
       "      <td>0</td>\n",
       "      <td>0</td>\n",
       "      <td>0</td>\n",
       "    </tr>\n",
       "    <tr>\n",
       "      <th>1</th>\n",
       "      <td>5575-gnvde</td>\n",
       "      <td>male</td>\n",
       "      <td>0</td>\n",
       "      <td>0</td>\n",
       "      <td>0</td>\n",
       "      <td>34</td>\n",
       "      <td>1</td>\n",
       "      <td>no</td>\n",
       "      <td>dsl</td>\n",
       "      <td>yes</td>\n",
       "      <td>...</td>\n",
       "      <td>no</td>\n",
       "      <td>no</td>\n",
       "      <td>one year</td>\n",
       "      <td>0</td>\n",
       "      <td>mailed check</td>\n",
       "      <td>56.95</td>\n",
       "      <td>NaN</td>\n",
       "      <td>0</td>\n",
       "      <td>0</td>\n",
       "      <td>0</td>\n",
       "    </tr>\n",
       "    <tr>\n",
       "      <th>2</th>\n",
       "      <td>3668-qpybk</td>\n",
       "      <td>male</td>\n",
       "      <td>0</td>\n",
       "      <td>0</td>\n",
       "      <td>0</td>\n",
       "      <td>2</td>\n",
       "      <td>1</td>\n",
       "      <td>no</td>\n",
       "      <td>dsl</td>\n",
       "      <td>yes</td>\n",
       "      <td>...</td>\n",
       "      <td>no</td>\n",
       "      <td>no</td>\n",
       "      <td>month-to-month</td>\n",
       "      <td>1</td>\n",
       "      <td>mailed check</td>\n",
       "      <td>53.85</td>\n",
       "      <td>NaN</td>\n",
       "      <td>0</td>\n",
       "      <td>0</td>\n",
       "      <td>1</td>\n",
       "    </tr>\n",
       "    <tr>\n",
       "      <th>3</th>\n",
       "      <td>7795-cfocw</td>\n",
       "      <td>male</td>\n",
       "      <td>0</td>\n",
       "      <td>0</td>\n",
       "      <td>0</td>\n",
       "      <td>45</td>\n",
       "      <td>0</td>\n",
       "      <td>no phone service</td>\n",
       "      <td>dsl</td>\n",
       "      <td>yes</td>\n",
       "      <td>...</td>\n",
       "      <td>no</td>\n",
       "      <td>no</td>\n",
       "      <td>one year</td>\n",
       "      <td>0</td>\n",
       "      <td>bank transfer (automatic)</td>\n",
       "      <td>42.30</td>\n",
       "      <td>NaN</td>\n",
       "      <td>0</td>\n",
       "      <td>3</td>\n",
       "      <td>0</td>\n",
       "    </tr>\n",
       "    <tr>\n",
       "      <th>4</th>\n",
       "      <td>9237-hqitu</td>\n",
       "      <td>female</td>\n",
       "      <td>0</td>\n",
       "      <td>0</td>\n",
       "      <td>0</td>\n",
       "      <td>2</td>\n",
       "      <td>1</td>\n",
       "      <td>no</td>\n",
       "      <td>fiber optic</td>\n",
       "      <td>no</td>\n",
       "      <td>...</td>\n",
       "      <td>no</td>\n",
       "      <td>no</td>\n",
       "      <td>month-to-month</td>\n",
       "      <td>1</td>\n",
       "      <td>electronic check</td>\n",
       "      <td>70.70</td>\n",
       "      <td>NaN</td>\n",
       "      <td>0</td>\n",
       "      <td>0</td>\n",
       "      <td>1</td>\n",
       "    </tr>\n",
       "  </tbody>\n",
       "</table>\n",
       "<p>5 rows × 23 columns</p>\n",
       "</div>"
      ],
      "text/plain": [
       "   customerID  gender  SeniorCitizen  Partner  Dependents  tenure  \\\n",
       "0  7590-vhveg  female              0        1           0       1   \n",
       "1  5575-gnvde    male              0        0           0      34   \n",
       "2  3668-qpybk    male              0        0           0       2   \n",
       "3  7795-cfocw    male              0        0           0      45   \n",
       "4  9237-hqitu  female              0        0           0       2   \n",
       "\n",
       "   PhoneService     MultipleLines InternetService OnlineSecurity  ...  \\\n",
       "0             0  no phone service             dsl             no  ...   \n",
       "1             1                no             dsl            yes  ...   \n",
       "2             1                no             dsl            yes  ...   \n",
       "3             0  no phone service             dsl            yes  ...   \n",
       "4             1                no     fiber optic             no  ...   \n",
       "\n",
       "  StreamingTV StreamingMovies        Contract PaperlessBilling  \\\n",
       "0          no              no  month-to-month                1   \n",
       "1          no              no        one year                0   \n",
       "2          no              no  month-to-month                1   \n",
       "3          no              no        one year                0   \n",
       "4          no              no  month-to-month                1   \n",
       "\n",
       "               PaymentMethod MonthlyCharges  TotalCharges numAdminTickets  \\\n",
       "0           electronic check          29.85           NaN               0   \n",
       "1               mailed check          56.95           NaN               0   \n",
       "2               mailed check          53.85           NaN               0   \n",
       "3  bank transfer (automatic)          42.30           NaN               0   \n",
       "4           electronic check          70.70           NaN               0   \n",
       "\n",
       "   numTechTickets Churn  \n",
       "0               0     0  \n",
       "1               0     0  \n",
       "2               0     1  \n",
       "3               3     0  \n",
       "4               0     1  \n",
       "\n",
       "[5 rows x 23 columns]"
      ]
     },
     "execution_count": 6,
     "metadata": {},
     "output_type": "execute_result"
    }
   ],
   "source": [
    "columns_to_convert = ['Partner', \n",
    "                      'Dependents', \n",
    "                      'PhoneService', \n",
    "                      'PaperlessBilling', \n",
    "                      'Churn']\n",
    "\n",
    "for item in columns_to_convert:\n",
    "    df[item].replace(to_replace='yes', value=1, inplace=True)\n",
    "    df[item].replace(to_replace='no',  value=0, inplace=True)\n",
    "df.head()"
   ]
  },
  {
   "cell_type": "code",
   "execution_count": 7,
   "metadata": {
    "_uuid": "75e1773c0d4081a96e5a88809cd9ac0208870b01"
   },
   "outputs": [
    {
     "data": {
      "text/plain": [
       "customerID           object\n",
       "gender               object\n",
       "SeniorCitizen         int64\n",
       "Partner               int64\n",
       "Dependents            int64\n",
       "tenure                int64\n",
       "PhoneService          int64\n",
       "MultipleLines        object\n",
       "InternetService      object\n",
       "OnlineSecurity       object\n",
       "OnlineBackup         object\n",
       "DeviceProtection     object\n",
       "TechSupport          object\n",
       "StreamingTV          object\n",
       "StreamingMovies      object\n",
       "Contract             object\n",
       "PaperlessBilling      int64\n",
       "PaymentMethod        object\n",
       "MonthlyCharges      float64\n",
       "TotalCharges         object\n",
       "numAdminTickets       int64\n",
       "numTechTickets        int64\n",
       "Churn                 int64\n",
       "dtype: object"
      ]
     },
     "execution_count": 7,
     "metadata": {},
     "output_type": "execute_result"
    }
   ],
   "source": [
    "df.dtypes"
   ]
  },
  {
   "cell_type": "markdown",
   "metadata": {
    "_uuid": "3e38c5c55b9978501bb59fe3ce5696b91f057edc"
   },
   "source": [
    "We can see TotalCharges is still an object. Fix TotalCharges as a float..."
   ]
  },
  {
   "cell_type": "code",
   "execution_count": 8,
   "metadata": {
    "_uuid": "8715ef563adda5741f95ae31f8c1035ae0e6e447"
   },
   "outputs": [],
   "source": [
    "df['TotalCharges'] = df['TotalCharges'].replace(r'\\s+', np.nan, regex=True)\n",
    "df['TotalCharges'] = pd.to_numeric(df['TotalCharges'])"
   ]
  },
  {
   "cell_type": "markdown",
   "metadata": {
    "_uuid": "8c66ce2ce47ec851c14f513ca7a2cb6f63573369"
   },
   "source": [
    "Check for NULLs"
   ]
  },
  {
   "cell_type": "code",
   "execution_count": 9,
   "metadata": {
    "_uuid": "d190a086547fd2243fd23a3920689455bcb994cb"
   },
   "outputs": [
    {
     "data": {
      "text/plain": [
       "customerID             0\n",
       "gender                 0\n",
       "SeniorCitizen          0\n",
       "Partner                0\n",
       "Dependents             0\n",
       "tenure                 0\n",
       "PhoneService           0\n",
       "MultipleLines          0\n",
       "InternetService        0\n",
       "OnlineSecurity         0\n",
       "OnlineBackup           0\n",
       "DeviceProtection       0\n",
       "TechSupport            0\n",
       "StreamingTV            0\n",
       "StreamingMovies        0\n",
       "Contract               0\n",
       "PaperlessBilling       0\n",
       "PaymentMethod          0\n",
       "MonthlyCharges         0\n",
       "TotalCharges        7043\n",
       "numAdminTickets        0\n",
       "numTechTickets         0\n",
       "Churn                  0\n",
       "dtype: int64"
      ]
     },
     "execution_count": 9,
     "metadata": {},
     "output_type": "execute_result"
    }
   ],
   "source": [
    "df.isnull().sum(axis = 0)"
   ]
  },
  {
   "cell_type": "code",
   "execution_count": 10,
   "metadata": {
    "_uuid": "4cd51e23379d9c2b096e772ef3daaee3c3aa46fc"
   },
   "outputs": [],
   "source": [
    "df = df.fillna(value=0)"
   ]
  },
  {
   "cell_type": "markdown",
   "metadata": {
    "_uuid": "2b91db44074b85bafb806c7aaba8e145ae55a31a"
   },
   "source": [
    "Balance the labels so we have the same number of non-churners as churners."
   ]
  },
  {
   "cell_type": "code",
   "execution_count": 11,
   "metadata": {
    "_uuid": "1e6ff1048af9cb40a9585e8d0eee2920bcbe3cc3"
   },
   "outputs": [
    {
     "name": "stdout",
     "output_type": "stream",
     "text": [
      "Number of churners 1869\n",
      "Number of non-churners 1869\n"
     ]
    },
    {
     "name": "stderr",
     "output_type": "stream",
     "text": [
      "C:\\Users\\USER\\AppData\\Local\\Temp\\ipykernel_17384\\1331729574.py:8: FutureWarning: The frame.append method is deprecated and will be removed from pandas in a future version. Use pandas.concat instead.\n",
      "  df2 = churners.append(non_churners)\n"
     ]
    }
   ],
   "source": [
    "churners_number = len(df[df['Churn'] == 1])\n",
    "print(\"Number of churners\", churners_number)\n",
    "\n",
    "churners = (df[df['Churn'] == 1])\n",
    "\n",
    "non_churners = df[df['Churn'] == 0].sample(n=churners_number)\n",
    "print(\"Number of non-churners\", len(non_churners))\n",
    "df2 = churners.append(non_churners)"
   ]
  },
  {
   "cell_type": "markdown",
   "metadata": {
    "_uuid": "3e1218f9ca1ba189d0d1525f5a54bdcc37c032cd"
   },
   "source": [
    "# Classifier"
   ]
  },
  {
   "cell_type": "markdown",
   "metadata": {
    "_uuid": "e6171ebc676396183d2444f4564b24081174964f"
   },
   "source": [
    "Are there any strong correlations?"
   ]
  },
  {
   "cell_type": "code",
   "execution_count": 12,
   "metadata": {
    "_uuid": "2e634d5f8921b0aa2543de179882a6be1416d9c2",
    "scrolled": true
   },
   "outputs": [
    {
     "data": {
      "image/png": "[encoded data removed]",
      "text/plain": [
       "<Figure size 1440x720 with 2 Axes>"
      ]
     },
     "metadata": {
      "needs_background": "light"
     },
     "output_type": "display_data"
    }
   ],
   "source": [
    "def show_correlations(dataframe, show_chart = True):\n",
    "    fig = plt.figure(figsize = (20,10))\n",
    "    corr = dataframe.corr()\n",
    "    if show_chart == True:\n",
    "        sns.heatmap(corr, \n",
    "                    xticklabels=corr.columns.values,\n",
    "                    yticklabels=corr.columns.values,\n",
    "                    annot=True)\n",
    "    return corr\n",
    "\n",
    "correlation_df = show_correlations(df2,show_chart=True)"
   ]
  },
  {
   "cell_type": "markdown",
   "metadata": {
    "_uuid": "ca39f31b83fbc7d3c85a06316c2546705ff04e2f"
   },
   "source": [
    "Let's now build a classifier."
   ]
  },
  {
   "cell_type": "code",
   "execution_count": 13,
   "metadata": {
    "_uuid": "b273f022ef6661ab75acd27665e35ad9816f1387"
   },
   "outputs": [],
   "source": [
    "try:\n",
    "    customer_id = df2['customerID'] # Store this as customer_id variable\n",
    "    del df2['customerID'] # Don't need in ML DF\n",
    "except:\n",
    "    print(\"already removed customerID\")"
   ]
  },
  {
   "cell_type": "code",
   "execution_count": 14,
   "metadata": {
    "_uuid": "56190336afe379d9cee52218c4a7810b73f208a3",
    "scrolled": true
   },
   "outputs": [
    {
     "data": {
      "text/html": [
       "<div>\n",
       "<style scoped>\n",
       "    .dataframe tbody tr th:only-of-type {\n",
       "        vertical-align: middle;\n",
       "    }\n",
       "\n",
       "    .dataframe tbody tr th {\n",
       "        vertical-align: top;\n",
       "    }\n",
       "\n",
       "    .dataframe thead th {\n",
       "        text-align: right;\n",
       "    }\n",
       "</style>\n",
       "<table border=\"1\" class=\"dataframe\">\n",
       "  <thead>\n",
       "    <tr style=\"text-align: right;\">\n",
       "      <th></th>\n",
       "      <th>gender</th>\n",
       "      <th>SeniorCitizen</th>\n",
       "      <th>Partner</th>\n",
       "      <th>Dependents</th>\n",
       "      <th>tenure</th>\n",
       "      <th>PhoneService</th>\n",
       "      <th>MultipleLines</th>\n",
       "      <th>InternetService</th>\n",
       "      <th>OnlineSecurity</th>\n",
       "      <th>OnlineBackup</th>\n",
       "      <th>...</th>\n",
       "      <th>StreamingTV</th>\n",
       "      <th>StreamingMovies</th>\n",
       "      <th>Contract</th>\n",
       "      <th>PaperlessBilling</th>\n",
       "      <th>PaymentMethod</th>\n",
       "      <th>MonthlyCharges</th>\n",
       "      <th>TotalCharges</th>\n",
       "      <th>numAdminTickets</th>\n",
       "      <th>numTechTickets</th>\n",
       "      <th>Churn</th>\n",
       "    </tr>\n",
       "  </thead>\n",
       "  <tbody>\n",
       "    <tr>\n",
       "      <th>2</th>\n",
       "      <td>male</td>\n",
       "      <td>0</td>\n",
       "      <td>0</td>\n",
       "      <td>0</td>\n",
       "      <td>2</td>\n",
       "      <td>1</td>\n",
       "      <td>no</td>\n",
       "      <td>dsl</td>\n",
       "      <td>yes</td>\n",
       "      <td>yes</td>\n",
       "      <td>...</td>\n",
       "      <td>no</td>\n",
       "      <td>no</td>\n",
       "      <td>month-to-month</td>\n",
       "      <td>1</td>\n",
       "      <td>mailed check</td>\n",
       "      <td>53.85</td>\n",
       "      <td>0.0</td>\n",
       "      <td>0</td>\n",
       "      <td>0</td>\n",
       "      <td>1</td>\n",
       "    </tr>\n",
       "    <tr>\n",
       "      <th>4</th>\n",
       "      <td>female</td>\n",
       "      <td>0</td>\n",
       "      <td>0</td>\n",
       "      <td>0</td>\n",
       "      <td>2</td>\n",
       "      <td>1</td>\n",
       "      <td>no</td>\n",
       "      <td>fiber optic</td>\n",
       "      <td>no</td>\n",
       "      <td>no</td>\n",
       "      <td>...</td>\n",
       "      <td>no</td>\n",
       "      <td>no</td>\n",
       "      <td>month-to-month</td>\n",
       "      <td>1</td>\n",
       "      <td>electronic check</td>\n",
       "      <td>70.70</td>\n",
       "      <td>0.0</td>\n",
       "      <td>0</td>\n",
       "      <td>0</td>\n",
       "      <td>1</td>\n",
       "    </tr>\n",
       "    <tr>\n",
       "      <th>5</th>\n",
       "      <td>female</td>\n",
       "      <td>0</td>\n",
       "      <td>0</td>\n",
       "      <td>0</td>\n",
       "      <td>8</td>\n",
       "      <td>1</td>\n",
       "      <td>yes</td>\n",
       "      <td>fiber optic</td>\n",
       "      <td>no</td>\n",
       "      <td>no</td>\n",
       "      <td>...</td>\n",
       "      <td>yes</td>\n",
       "      <td>yes</td>\n",
       "      <td>month-to-month</td>\n",
       "      <td>1</td>\n",
       "      <td>electronic check</td>\n",
       "      <td>99.65</td>\n",
       "      <td>0.0</td>\n",
       "      <td>0</td>\n",
       "      <td>0</td>\n",
       "      <td>1</td>\n",
       "    </tr>\n",
       "    <tr>\n",
       "      <th>8</th>\n",
       "      <td>female</td>\n",
       "      <td>0</td>\n",
       "      <td>1</td>\n",
       "      <td>0</td>\n",
       "      <td>28</td>\n",
       "      <td>1</td>\n",
       "      <td>yes</td>\n",
       "      <td>fiber optic</td>\n",
       "      <td>no</td>\n",
       "      <td>no</td>\n",
       "      <td>...</td>\n",
       "      <td>yes</td>\n",
       "      <td>yes</td>\n",
       "      <td>month-to-month</td>\n",
       "      <td>1</td>\n",
       "      <td>electronic check</td>\n",
       "      <td>104.80</td>\n",
       "      <td>0.0</td>\n",
       "      <td>0</td>\n",
       "      <td>2</td>\n",
       "      <td>1</td>\n",
       "    </tr>\n",
       "    <tr>\n",
       "      <th>13</th>\n",
       "      <td>male</td>\n",
       "      <td>0</td>\n",
       "      <td>0</td>\n",
       "      <td>0</td>\n",
       "      <td>49</td>\n",
       "      <td>1</td>\n",
       "      <td>yes</td>\n",
       "      <td>fiber optic</td>\n",
       "      <td>no</td>\n",
       "      <td>yes</td>\n",
       "      <td>...</td>\n",
       "      <td>yes</td>\n",
       "      <td>yes</td>\n",
       "      <td>month-to-month</td>\n",
       "      <td>1</td>\n",
       "      <td>bank transfer (automatic)</td>\n",
       "      <td>103.70</td>\n",
       "      <td>0.0</td>\n",
       "      <td>5</td>\n",
       "      <td>4</td>\n",
       "      <td>1</td>\n",
       "    </tr>\n",
       "  </tbody>\n",
       "</table>\n",
       "<p>5 rows × 22 columns</p>\n",
       "</div>"
      ],
      "text/plain": [
       "    gender  SeniorCitizen  Partner  Dependents  tenure  PhoneService  \\\n",
       "2     male              0        0           0       2             1   \n",
       "4   female              0        0           0       2             1   \n",
       "5   female              0        0           0       8             1   \n",
       "8   female              0        1           0      28             1   \n",
       "13    male              0        0           0      49             1   \n",
       "\n",
       "   MultipleLines InternetService OnlineSecurity OnlineBackup  ... StreamingTV  \\\n",
       "2             no             dsl            yes          yes  ...          no   \n",
       "4             no     fiber optic             no           no  ...          no   \n",
       "5            yes     fiber optic             no           no  ...         yes   \n",
       "8            yes     fiber optic             no           no  ...         yes   \n",
       "13           yes     fiber optic             no          yes  ...         yes   \n",
       "\n",
       "   StreamingMovies        Contract PaperlessBilling  \\\n",
       "2               no  month-to-month                1   \n",
       "4               no  month-to-month                1   \n",
       "5              yes  month-to-month                1   \n",
       "8              yes  month-to-month                1   \n",
       "13             yes  month-to-month                1   \n",
       "\n",
       "                PaymentMethod  MonthlyCharges TotalCharges  numAdminTickets  \\\n",
       "2                mailed check           53.85          0.0                0   \n",
       "4            electronic check           70.70          0.0                0   \n",
       "5            electronic check           99.65          0.0                0   \n",
       "8            electronic check          104.80          0.0                0   \n",
       "13  bank transfer (automatic)          103.70          0.0                5   \n",
       "\n",
       "    numTechTickets  Churn  \n",
       "2                0      1  \n",
       "4                0      1  \n",
       "5                0      1  \n",
       "8                2      1  \n",
       "13               4      1  \n",
       "\n",
       "[5 rows x 22 columns]"
      ]
     },
     "execution_count": 14,
     "metadata": {},
     "output_type": "execute_result"
    }
   ],
   "source": [
    "df2.head()"
   ]
  },
  {
   "cell_type": "markdown",
   "metadata": {
    "_uuid": "21fdb784b59d3e1999e9e7ea920a543b0735d52a"
   },
   "source": [
    "Use one-hot encoding to convert categorical data to binary (0 or 1)"
   ]
  },
  {
   "cell_type": "code",
   "execution_count": 15,
   "metadata": {
    "_uuid": "3fad12f11036a51f26f29662328b0f79d78f7d44",
    "scrolled": true
   },
   "outputs": [
    {
     "data": {
      "text/html": [
       "<div>\n",
       "<style scoped>\n",
       "    .dataframe tbody tr th:only-of-type {\n",
       "        vertical-align: middle;\n",
       "    }\n",
       "\n",
       "    .dataframe tbody tr th {\n",
       "        vertical-align: top;\n",
       "    }\n",
       "\n",
       "    .dataframe thead th {\n",
       "        text-align: right;\n",
       "    }\n",
       "</style>\n",
       "<table border=\"1\" class=\"dataframe\">\n",
       "  <thead>\n",
       "    <tr style=\"text-align: right;\">\n",
       "      <th></th>\n",
       "      <th>SeniorCitizen</th>\n",
       "      <th>Partner</th>\n",
       "      <th>Dependents</th>\n",
       "      <th>tenure</th>\n",
       "      <th>PhoneService</th>\n",
       "      <th>PaperlessBilling</th>\n",
       "      <th>MonthlyCharges</th>\n",
       "      <th>TotalCharges</th>\n",
       "      <th>numAdminTickets</th>\n",
       "      <th>numTechTickets</th>\n",
       "      <th>...</th>\n",
       "      <th>StreamingMovies_no</th>\n",
       "      <th>StreamingMovies_no internet service</th>\n",
       "      <th>StreamingMovies_yes</th>\n",
       "      <th>Contract_month-to-month</th>\n",
       "      <th>Contract_one year</th>\n",
       "      <th>Contract_two year</th>\n",
       "      <th>PaymentMethod_bank transfer (automatic)</th>\n",
       "      <th>PaymentMethod_credit card (automatic)</th>\n",
       "      <th>PaymentMethod_electronic check</th>\n",
       "      <th>PaymentMethod_mailed check</th>\n",
       "    </tr>\n",
       "  </thead>\n",
       "  <tbody>\n",
       "    <tr>\n",
       "      <th>2</th>\n",
       "      <td>0</td>\n",
       "      <td>0</td>\n",
       "      <td>0</td>\n",
       "      <td>2</td>\n",
       "      <td>1</td>\n",
       "      <td>1</td>\n",
       "      <td>53.85</td>\n",
       "      <td>0.0</td>\n",
       "      <td>0</td>\n",
       "      <td>0</td>\n",
       "      <td>...</td>\n",
       "      <td>1</td>\n",
       "      <td>0</td>\n",
       "      <td>0</td>\n",
       "      <td>1</td>\n",
       "      <td>0</td>\n",
       "      <td>0</td>\n",
       "      <td>0</td>\n",
       "      <td>0</td>\n",
       "      <td>0</td>\n",
       "      <td>1</td>\n",
       "    </tr>\n",
       "    <tr>\n",
       "      <th>4</th>\n",
       "      <td>0</td>\n",
       "      <td>0</td>\n",
       "      <td>0</td>\n",
       "      <td>2</td>\n",
       "      <td>1</td>\n",
       "      <td>1</td>\n",
       "      <td>70.70</td>\n",
       "      <td>0.0</td>\n",
       "      <td>0</td>\n",
       "      <td>0</td>\n",
       "      <td>...</td>\n",
       "      <td>1</td>\n",
       "      <td>0</td>\n",
       "      <td>0</td>\n",
       "      <td>1</td>\n",
       "      <td>0</td>\n",
       "      <td>0</td>\n",
       "      <td>0</td>\n",
       "      <td>0</td>\n",
       "      <td>1</td>\n",
       "      <td>0</td>\n",
       "    </tr>\n",
       "    <tr>\n",
       "      <th>5</th>\n",
       "      <td>0</td>\n",
       "      <td>0</td>\n",
       "      <td>0</td>\n",
       "      <td>8</td>\n",
       "      <td>1</td>\n",
       "      <td>1</td>\n",
       "      <td>99.65</td>\n",
       "      <td>0.0</td>\n",
       "      <td>0</td>\n",
       "      <td>0</td>\n",
       "      <td>...</td>\n",
       "      <td>0</td>\n",
       "      <td>0</td>\n",
       "      <td>1</td>\n",
       "      <td>1</td>\n",
       "      <td>0</td>\n",
       "      <td>0</td>\n",
       "      <td>0</td>\n",
       "      <td>0</td>\n",
       "      <td>1</td>\n",
       "      <td>0</td>\n",
       "    </tr>\n",
       "    <tr>\n",
       "      <th>8</th>\n",
       "      <td>0</td>\n",
       "      <td>1</td>\n",
       "      <td>0</td>\n",
       "      <td>28</td>\n",
       "      <td>1</td>\n",
       "      <td>1</td>\n",
       "      <td>104.80</td>\n",
       "      <td>0.0</td>\n",
       "      <td>0</td>\n",
       "      <td>2</td>\n",
       "      <td>...</td>\n",
       "      <td>0</td>\n",
       "      <td>0</td>\n",
       "      <td>1</td>\n",
       "      <td>1</td>\n",
       "      <td>0</td>\n",
       "      <td>0</td>\n",
       "      <td>0</td>\n",
       "      <td>0</td>\n",
       "      <td>1</td>\n",
       "      <td>0</td>\n",
       "    </tr>\n",
       "    <tr>\n",
       "      <th>13</th>\n",
       "      <td>0</td>\n",
       "      <td>0</td>\n",
       "      <td>0</td>\n",
       "      <td>49</td>\n",
       "      <td>1</td>\n",
       "      <td>1</td>\n",
       "      <td>103.70</td>\n",
       "      <td>0.0</td>\n",
       "      <td>5</td>\n",
       "      <td>4</td>\n",
       "      <td>...</td>\n",
       "      <td>0</td>\n",
       "      <td>0</td>\n",
       "      <td>1</td>\n",
       "      <td>1</td>\n",
       "      <td>0</td>\n",
       "      <td>0</td>\n",
       "      <td>1</td>\n",
       "      <td>0</td>\n",
       "      <td>0</td>\n",
       "      <td>0</td>\n",
       "    </tr>\n",
       "  </tbody>\n",
       "</table>\n",
       "<p>5 rows × 44 columns</p>\n",
       "</div>"
      ],
      "text/plain": [
       "    SeniorCitizen  Partner  Dependents  tenure  PhoneService  \\\n",
       "2               0        0           0       2             1   \n",
       "4               0        0           0       2             1   \n",
       "5               0        0           0       8             1   \n",
       "8               0        1           0      28             1   \n",
       "13              0        0           0      49             1   \n",
       "\n",
       "    PaperlessBilling  MonthlyCharges  TotalCharges  numAdminTickets  \\\n",
       "2                  1           53.85           0.0                0   \n",
       "4                  1           70.70           0.0                0   \n",
       "5                  1           99.65           0.0                0   \n",
       "8                  1          104.80           0.0                0   \n",
       "13                 1          103.70           0.0                5   \n",
       "\n",
       "    numTechTickets  ...  StreamingMovies_no  \\\n",
       "2                0  ...                   1   \n",
       "4                0  ...                   1   \n",
       "5                0  ...                   0   \n",
       "8                2  ...                   0   \n",
       "13               4  ...                   0   \n",
       "\n",
       "    StreamingMovies_no internet service  StreamingMovies_yes  \\\n",
       "2                                     0                    0   \n",
       "4                                     0                    0   \n",
       "5                                     0                    1   \n",
       "8                                     0                    1   \n",
       "13                                    0                    1   \n",
       "\n",
       "    Contract_month-to-month  Contract_one year  Contract_two year  \\\n",
       "2                         1                  0                  0   \n",
       "4                         1                  0                  0   \n",
       "5                         1                  0                  0   \n",
       "8                         1                  0                  0   \n",
       "13                        1                  0                  0   \n",
       "\n",
       "    PaymentMethod_bank transfer (automatic)  \\\n",
       "2                                         0   \n",
       "4                                         0   \n",
       "5                                         0   \n",
       "8                                         0   \n",
       "13                                        1   \n",
       "\n",
       "    PaymentMethod_credit card (automatic)  PaymentMethod_electronic check  \\\n",
       "2                                       0                               0   \n",
       "4                                       0                               1   \n",
       "5                                       0                               1   \n",
       "8                                       0                               1   \n",
       "13                                      0                               0   \n",
       "\n",
       "    PaymentMethod_mailed check  \n",
       "2                            1  \n",
       "4                            0  \n",
       "5                            0  \n",
       "8                            0  \n",
       "13                           0  \n",
       "\n",
       "[5 rows x 44 columns]"
      ]
     },
     "execution_count": 15,
     "metadata": {},
     "output_type": "execute_result"
    }
   ],
   "source": [
    "ml_dummies = pd.get_dummies(df2)\n",
    "ml_dummies.fillna(value=0, inplace=True)\n",
    "ml_dummies.head()"
   ]
  },
  {
   "cell_type": "code",
   "execution_count": 16,
   "metadata": {
    "_uuid": "8ae45bb99b3ffbf865f607f70493d51f0ff20a8a"
   },
   "outputs": [],
   "source": [
    "# Add a random column to the dataframe\n",
    "ml_dummies['---randomColumn---'] = np.random.randint(0,1000, size=len(ml_dummies))"
   ]
  },
  {
   "cell_type": "code",
   "execution_count": 17,
   "metadata": {
    "_uuid": "1e44f7ae80ec83cddce9f6c912270e7d3362ac83"
   },
   "outputs": [
    {
     "data": {
      "text/plain": [
       "Churn                                      1.000000\n",
       "Contract_month-to-month                    0.486020\n",
       "TechSupport_no                             0.405126\n",
       "OnlineSecurity_no                          0.393518\n",
       "InternetService_fiber optic                0.351758\n",
       "PaymentMethod_electronic check             0.331239\n",
       "numTechTickets                             0.327856\n",
       "OnlineBackup_no                            0.308206\n",
       "DeviceProtection_no                        0.300699\n",
       "PaperlessBilling                           0.237254\n",
       "MonthlyCharges                             0.225995\n",
       "SeniorCitizen                              0.156623\n",
       "StreamingMovies_no                         0.146466\n",
       "StreamingTV_no                             0.144174\n",
       "StreamingTV_yes                            0.069861\n",
       "StreamingMovies_yes                        0.067590\n",
       "MultipleLines_yes                          0.043189\n",
       "gender_female                              0.018193\n",
       "PhoneService                               0.011893\n",
       "---randomColumn---                         0.006649\n",
       "MultipleLines_no phone service            -0.011893\n",
       "gender_male                               -0.018193\n",
       "numAdminTickets                           -0.024646\n",
       "MultipleLines_no                          -0.035904\n",
       "DeviceProtection_yes                      -0.094566\n",
       "OnlineBackup_yes                          -0.103118\n",
       "PaymentMethod_mailed check                -0.116424\n",
       "PaymentMethod_bank transfer (automatic)   -0.137784\n",
       "InternetService_dsl                       -0.150803\n",
       "PaymentMethod_credit card (automatic)     -0.157042\n",
       "Partner                                   -0.187095\n",
       "OnlineSecurity_yes                        -0.204405\n",
       "Dependents                                -0.206003\n",
       "Contract_one year                         -0.207137\n",
       "TechSupport_yes                           -0.215752\n",
       "OnlineSecurity_no internet service        -0.283911\n",
       "StreamingTV_no internet service           -0.283911\n",
       "StreamingMovies_no internet service       -0.283911\n",
       "TechSupport_no internet service           -0.283911\n",
       "DeviceProtection_no internet service      -0.283911\n",
       "InternetService_no                        -0.283911\n",
       "OnlineBackup_no internet service          -0.283911\n",
       "Contract_two year                         -0.401284\n",
       "tenure                                    -0.410030\n",
       "TotalCharges                                    NaN\n",
       "Name: Churn, dtype: float64"
      ]
     },
     "execution_count": 17,
     "metadata": {},
     "output_type": "execute_result"
    },
    {
     "data": {
      "text/plain": [
       "<Figure size 1440x720 with 0 Axes>"
      ]
     },
     "metadata": {},
     "output_type": "display_data"
    }
   ],
   "source": [
    "show_correlations(ml_dummies, show_chart=False)[\"Churn\"].sort_values(ascending=False)"
   ]
  },
  {
   "cell_type": "code",
   "execution_count": 18,
   "metadata": {
    "_uuid": "8260a93932a14bbed2c8b4740dae6e94a4dfae06"
   },
   "outputs": [],
   "source": [
    "try:\n",
    "    label = ml_dummies['Churn'] # Remove the label before training the model\n",
    "    del ml_dummies['Churn']\n",
    "except:\n",
    "    print(\"label already removed.\")"
   ]
  },
  {
   "cell_type": "code",
   "execution_count": 19,
   "metadata": {
    "_uuid": "167ff9b5bee53675949a0e7801acbab72b42a53f"
   },
   "outputs": [
    {
     "name": "stdout",
     "output_type": "stream",
     "text": [
      "KNeighborsClassifier\n",
      "0.661 \n",
      " - - - - -  \n",
      "\n",
      "DecisionTreeClassifier\n",
      "0.811 \n",
      " - - - - -  \n",
      "\n"
     ]
    },
    {
     "data": {
      "text/plain": [
       "<AxesSubplot:ylabel='features'>"
      ]
     },
     "execution_count": 19,
     "metadata": {},
     "output_type": "execute_result"
    },
    {
     "data": {
      "image/png": "[encoded data removed]",
      "text/plain": [
       "<Figure size 1440x1080 with 1 Axes>"
      ]
     },
     "metadata": {
      "needs_background": "light"
     },
     "output_type": "display_data"
    }
   ],
   "source": [
    "from sklearn.model_selection import train_test_split\n",
    "feature_train, feature_test, label_train, label_test = train_test_split(ml_dummies, label, test_size=0.3)\n",
    "\n",
    "# Classifiers\n",
    "from sklearn.neighbors import KNeighborsClassifier\n",
    "from sklearn.tree import DecisionTreeClassifier\n",
    "\n",
    "classifiers = [\n",
    "    KNeighborsClassifier(5),    \n",
    "    DecisionTreeClassifier(max_depth=5)\n",
    "]\n",
    "    \n",
    "\n",
    "# iterate over classifiers\n",
    "for item in classifiers:\n",
    "    classifier_name = ((str(item)[:(str(item).find(\"(\"))]))\n",
    "    print (classifier_name)\n",
    "    \n",
    "    # Create classifier, train it and test it.\n",
    "    clf = item\n",
    "    clf.fit(feature_train, label_train)\n",
    "    pred = clf.predict(feature_test)\n",
    "    score = clf.score(feature_test, label_test)\n",
    "    print (round(score,3),\"\\n\", \"- - - - - \", \"\\n\")\n",
    "    \n",
    "feature_df = pd.DataFrame()\n",
    "feature_df['features'] = ml_dummies.columns\n",
    "feature_df['importance'] = clf.feature_importances_\n",
    "feature_df.sort_values(by='importance', ascending=False)    \n",
    "feature_df.set_index(keys='features').sort_values(by='importance', ascending=True).plot(kind='barh', figsize=(20, 15))"
   ]
  },
  {
   "cell_type": "code",
   "execution_count": 20,
   "metadata": {
    "_uuid": "09b78d1a7f2aaf414cd758802fce12b3b69c88f6"
   },
   "outputs": [
    {
     "name": "stdout",
     "output_type": "stream",
     "text": [
      "Confusion matrix, without normalization\n",
      "[[432 158]\n",
      " [ 54 478]]\n",
      "Normalized confusion matrix\n",
      "[[0.73 0.27]\n",
      " [0.1  0.9 ]]\n"
     ]
    },
    {
     "data": {
      "image/png": "[encoded data removed]",
      "text/plain": [
       "<Figure size 432x288 with 2 Axes>"
      ]
     },
     "metadata": {
      "needs_background": "light"
     },
     "output_type": "display_data"
    },
    {
     "data": {
      "image/png": "[encoded data removed]",
      "text/plain": [
       "<Figure size 432x288 with 2 Axes>"
      ]
     },
     "metadata": {
      "needs_background": "light"
     },
     "output_type": "display_data"
    },
    {
     "name": "stdout",
     "output_type": "stream",
     "text": [
      "              precision    recall  f1-score   support\n",
      "\n",
      " Not churned       0.89      0.73      0.80       590\n",
      "     churned       0.75      0.90      0.82       532\n",
      "\n",
      "    accuracy                           0.81      1122\n",
      "   macro avg       0.82      0.82      0.81      1122\n",
      "weighted avg       0.82      0.81      0.81      1122\n",
      "\n"
     ]
    }
   ],
   "source": [
    "# Confusion matrix\n",
    "from sklearn.metrics import confusion_matrix\n",
    "import itertools\n",
    "\n",
    "def plot_confusion_matrix(cm, classes,\n",
    "                          normalize=False,\n",
    "                          title='Confusion matrix',\n",
    "                          cmap=plt.cm.Blues):\n",
    "    \"\"\"\n",
    "    This function prints and plots the confusion matrix.\n",
    "    Normalization can be applied by setting `normalize=True`.\n",
    "    \"\"\"\n",
    "    if normalize:\n",
    "        cm = cm.astype('float') / cm.sum(axis=1)[:, np.newaxis]\n",
    "        print(\"Normalized confusion matrix\")\n",
    "    else:\n",
    "        print('Confusion matrix, without normalization')\n",
    "\n",
    "    print(cm)\n",
    "\n",
    "    plt.imshow(cm, interpolation='nearest', cmap=cmap)\n",
    "    plt.title(title)\n",
    "    plt.colorbar()\n",
    "    tick_marks = np.arange(len(classes))\n",
    "    plt.xticks(tick_marks, classes, rotation=45)\n",
    "    plt.yticks(tick_marks, classes)\n",
    "\n",
    "    fmt = '.2f' if normalize else 'd'\n",
    "    thresh = cm.max() / 2.\n",
    "    for i, j in itertools.product(range(cm.shape[0]), range(cm.shape[1])):\n",
    "        plt.text(j, i, format(cm[i, j], fmt),\n",
    "                 horizontalalignment=\"center\",\n",
    "                 color=\"white\" if cm[i, j] > thresh else \"black\")\n",
    "\n",
    "    plt.tight_layout()\n",
    "    plt.ylabel('True label')\n",
    "    plt.xlabel('Predicted label')\n",
    "\n",
    "# Compute confusion matrix\n",
    "cnf_matrix = confusion_matrix(label_test, pred)\n",
    "np.set_printoptions(precision=2)\n",
    "\n",
    "# Plot non-normalized confusion matrix\n",
    "plt.figure()\n",
    "class_names = ['Not churned','churned']\n",
    "\n",
    "plot_confusion_matrix(cnf_matrix, classes=class_names,\n",
    "                      title='Confusion matrix, without normalization')\n",
    "\n",
    "# Plot normalized confusion matrix\n",
    "plt.figure()\n",
    "plot_confusion_matrix(cnf_matrix, classes=class_names, normalize=True,\n",
    "                      title='Normalized confusion matrix')\n",
    "\n",
    "plt.show()\n",
    "\n",
    "\n",
    "from sklearn.metrics import classification_report\n",
    "eval_metrics = classification_report(label_test, pred, target_names=class_names)\n",
    "print(eval_metrics)\n"
   ]
  },
  {
   "cell_type": "markdown",
   "metadata": {
    "_uuid": "4e58e5ff2a35dab6d38767e02abd61aca2b0edc1"
   },
   "source": [
    "This result seems conservative. We're more likely to say someone is going to churn when they're not vs predicting someone's not going to churn when they do. "
   ]
  },
  {
   "cell_type": "markdown",
   "metadata": {
    "_uuid": "6ac0f2adf8a4be8c78108fcbee55f075d5451e39"
   },
   "source": [
    "# Grid Search to tweak parameters"
   ]
  },
  {
   "cell_type": "code",
   "execution_count": 21,
   "metadata": {
    "_uuid": "f043eb14e1d665219b3b7aa7428d820bffda18f0"
   },
   "outputs": [],
   "source": [
    "from sklearn.model_selection import GridSearchCV\n",
    "\n",
    "max_depth_range = range(2,20,2)\n",
    "leaf_range = range(1,10,2)\n",
    "n_estimators_range = range(10,200,10)\n",
    "max_features_range = range(1,len(ml_dummies.columns),5)\n",
    "\n",
    "\n",
    "param_grid = dict(max_depth = max_depth_range,\n",
    "                 min_samples_leaf = leaf_range,\n",
    "                 n_estimators = n_estimators_range,\n",
    "                 max_features = max_features_range\n",
    "                )\n",
    "\n",
    "### Warning, can take some time\n",
    "\n",
    "# d_tree = RandomForestClassifier()\n",
    "# grid = GridSearchCV(d_tree, param_grid, cv=5, scoring = 'accuracy', verbose=1, return_train_score=True)\n",
    "# grid.fit(feature_train, label_train)\n",
    "# print (grid.best_score_)\n",
    "# print (grid.best_params_)\n",
    "# print (grid.best_estimator_)"
   ]
  },
  {
   "cell_type": "markdown",
   "metadata": {
    "_uuid": "6049a52b4a06a1a276afaffb4532f5315583aee9"
   },
   "source": [
    "# Make predictions on the dataset"
   ]
  },
  {
   "cell_type": "code",
   "execution_count": 22,
   "metadata": {
    "_uuid": "0ad77b7dcda408f34969190c3f957ea8d483c366"
   },
   "outputs": [],
   "source": [
    "# Preprocessing original dataframe\n",
    "def preprocess_df(dataframe):\n",
    "    x = dataframe.copy()\n",
    "    try:\n",
    "        customer_id = x['customerID']\n",
    "        del x['customerID'] # Don't need in ML DF\n",
    "    except:\n",
    "        print(\"already removed customerID\")\n",
    "    ml_dummies = pd.get_dummies(x)\n",
    "    ml_dummies.fillna(value=0, inplace=True)\n",
    "\n",
    "    # import random done above\n",
    "    ml_dummies['---randomColumn---'] = np.random.randint(0,1000, size=len(ml_dummies))\n",
    "\n",
    "    try:\n",
    "        label = ml_dummies['Churn']\n",
    "        del ml_dummies['Churn']\n",
    "    except:\n",
    "        print(\"label already removed.\")\n",
    "    return ml_dummies, customer_id, label\n",
    "\n",
    "original_df = preprocess_df(df)"
   ]
  },
  {
   "cell_type": "code",
   "execution_count": 23,
   "metadata": {
    "_uuid": "b11632fcdfee87db9f3a0fdc345d073ee739e587"
   },
   "outputs": [],
   "source": [
    "output_df = original_df[0].copy()\n",
    "output_df['---randomColumn---']\n",
    "output_df['prediction'] = clf.predict_proba(output_df)[:,1]\n",
    "output_df['churn'] = original_df[2]\n",
    "output_df['customerID'] = original_df[1]"
   ]
  },
  {
   "cell_type": "code",
   "execution_count": 24,
   "metadata": {
    "_uuid": "1bf5a3e6e5874c3240a555b6f1ed34d4dd1b77d0"
   },
   "outputs": [
    {
     "name": "stdout",
     "output_type": "stream",
     "text": [
      "Mean predict proba of churn: 0.79\n",
      "Mean predict proba of NON-churn: 0.23\n"
     ]
    }
   ],
   "source": [
    "print('Mean predict proba of churn:',round(output_df[output_df['churn'] == 1]['prediction'].mean(),2))\n",
    "print('Mean predict proba of NON-churn:',round(output_df[output_df['churn'] == 0]['prediction'].mean(),2))"
   ]
  },
  {
   "cell_type": "markdown",
   "metadata": {
    "_uuid": "aa312cf4a7453549cd923eb14b6b9f811394e7ec"
   },
   "source": [
    "Use this next dataframe for activation. Using media, let's target the customers who haven't churned but are likely to. "
   ]
  },
  {
   "cell_type": "code",
   "execution_count": 25,
   "metadata": {
    "_uuid": "517f9c6c5a9870ba90174ed9607d05475c966877"
   },
   "outputs": [
    {
     "data": {
      "text/html": [
       "<div>\n",
       "<style scoped>\n",
       "    .dataframe tbody tr th:only-of-type {\n",
       "        vertical-align: middle;\n",
       "    }\n",
       "\n",
       "    .dataframe tbody tr th {\n",
       "        vertical-align: top;\n",
       "    }\n",
       "\n",
       "    .dataframe thead th {\n",
       "        text-align: right;\n",
       "    }\n",
       "</style>\n",
       "<table border=\"1\" class=\"dataframe\">\n",
       "  <thead>\n",
       "    <tr style=\"text-align: right;\">\n",
       "      <th></th>\n",
       "      <th>customerID</th>\n",
       "      <th>churn</th>\n",
       "      <th>prediction</th>\n",
       "    </tr>\n",
       "  </thead>\n",
       "  <tbody>\n",
       "    <tr>\n",
       "      <th>0</th>\n",
       "      <td>7590-vhveg</td>\n",
       "      <td>0</td>\n",
       "      <td>0.849741</td>\n",
       "    </tr>\n",
       "    <tr>\n",
       "      <th>1</th>\n",
       "      <td>5575-gnvde</td>\n",
       "      <td>0</td>\n",
       "      <td>0.032000</td>\n",
       "    </tr>\n",
       "    <tr>\n",
       "      <th>3</th>\n",
       "      <td>7795-cfocw</td>\n",
       "      <td>0</td>\n",
       "      <td>0.857143</td>\n",
       "    </tr>\n",
       "    <tr>\n",
       "      <th>6</th>\n",
       "      <td>1452-kiovk</td>\n",
       "      <td>0</td>\n",
       "      <td>0.025641</td>\n",
       "    </tr>\n",
       "    <tr>\n",
       "      <th>7</th>\n",
       "      <td>6713-okomc</td>\n",
       "      <td>0</td>\n",
       "      <td>0.386792</td>\n",
       "    </tr>\n",
       "    <tr>\n",
       "      <th>...</th>\n",
       "      <td>...</td>\n",
       "      <td>...</td>\n",
       "      <td>...</td>\n",
       "    </tr>\n",
       "    <tr>\n",
       "      <th>7037</th>\n",
       "      <td>2569-wgero</td>\n",
       "      <td>0</td>\n",
       "      <td>0.002732</td>\n",
       "    </tr>\n",
       "    <tr>\n",
       "      <th>7038</th>\n",
       "      <td>6840-resvb</td>\n",
       "      <td>0</td>\n",
       "      <td>0.028986</td>\n",
       "    </tr>\n",
       "    <tr>\n",
       "      <th>7039</th>\n",
       "      <td>2234-xaduh</td>\n",
       "      <td>0</td>\n",
       "      <td>0.985294</td>\n",
       "    </tr>\n",
       "    <tr>\n",
       "      <th>7040</th>\n",
       "      <td>4801-jzazl</td>\n",
       "      <td>0</td>\n",
       "      <td>0.386792</td>\n",
       "    </tr>\n",
       "    <tr>\n",
       "      <th>7042</th>\n",
       "      <td>3186-ajiek</td>\n",
       "      <td>0</td>\n",
       "      <td>0.002732</td>\n",
       "    </tr>\n",
       "  </tbody>\n",
       "</table>\n",
       "<p>5174 rows × 3 columns</p>\n",
       "</div>"
      ],
      "text/plain": [
       "      customerID  churn  prediction\n",
       "0     7590-vhveg      0    0.849741\n",
       "1     5575-gnvde      0    0.032000\n",
       "3     7795-cfocw      0    0.857143\n",
       "6     1452-kiovk      0    0.025641\n",
       "7     6713-okomc      0    0.386792\n",
       "...          ...    ...         ...\n",
       "7037  2569-wgero      0    0.002732\n",
       "7038  6840-resvb      0    0.028986\n",
       "7039  2234-xaduh      0    0.985294\n",
       "7040  4801-jzazl      0    0.386792\n",
       "7042  3186-ajiek      0    0.002732\n",
       "\n",
       "[5174 rows x 3 columns]"
      ]
     },
     "execution_count": 25,
     "metadata": {},
     "output_type": "execute_result"
    }
   ],
   "source": [
    "activate = output_df[output_df['churn'] == 0]\n",
    "activate[['customerID','churn','prediction']]"
   ]
  },
  {
   "cell_type": "code",
   "execution_count": null,
   "metadata": {
    "_uuid": "26ee1b04bac13c038bad5f590f111def1a9a26a1"
   },
   "outputs": [],
   "source": []
  }
 ],
 "metadata": {
  "kernelspec": {
   "display_name": "Python 3 (ipykernel)",
   "language": "python",
   "name": "python3"
  },
  "language_info": {
   "codemirror_mode": {
    "name": "ipython",
    "version": 3
   },
   "file_extension": ".py",
   "mimetype": "text/x-python",
   "name": "python",
   "nbconvert_exporter": "python",
   "pygments_lexer": "ipython3",
   "version": "3.9.12"
  }
 },
 "nbformat": 4,
 "nbformat_minor": 1
}
