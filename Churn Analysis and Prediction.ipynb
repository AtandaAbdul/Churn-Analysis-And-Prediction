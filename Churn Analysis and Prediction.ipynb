{
 "cells": [
  {
   "cell_type": "markdown",
   "id": "e3677eed",
   "metadata": {},
   "source": [
    "## Importing necessary Libraries "
   ]
  },
  {
   "cell_type": "code",
   "execution_count": 2,
   "id": "01b0c804",
   "metadata": {},
   "outputs": [],
   "source": [
    "import pandas as pd\n",
    "import numpy as np\n",
    "import matplotlib.pyplot as plt"
   ]
  },
  {
   "cell_type": "markdown",
   "id": "2c0f78bc",
   "metadata": {},
   "source": [
    "## Importing the dataset "
   ]
  },
  {
   "cell_type": "code",
   "execution_count": 3,
   "id": "bf4755f8",
   "metadata": {},
   "outputs": [],
   "source": [
    "df = pd.read_excel(\"02 Churn-Dataset.xlsx\")"
   ]
  },
  {
   "cell_type": "markdown",
   "id": "d2f75dce",
   "metadata": {},
   "source": [
    "### PEEKING INTO THE DATASET..."
   ]
  },
  {
   "cell_type": "code",
   "execution_count": 50,
   "id": "6b18d0f8",
   "metadata": {
    "scrolled": true
   },
   "outputs": [
    {
     "data": {
      "text/html": [
       "<div>\n",
       "<style scoped>\n",
       "    .dataframe tbody tr th:only-of-type {\n",
       "        vertical-align: middle;\n",
       "    }\n",
       "\n",
       "    .dataframe tbody tr th {\n",
       "        vertical-align: top;\n",
       "    }\n",
       "\n",
       "    .dataframe thead th {\n",
       "        text-align: right;\n",
       "    }\n",
       "</style>\n",
       "<table border=\"1\" class=\"dataframe\">\n",
       "  <thead>\n",
       "    <tr style=\"text-align: right;\">\n",
       "      <th></th>\n",
       "      <th>customerID</th>\n",
       "      <th>gender</th>\n",
       "      <th>SeniorCitizen</th>\n",
       "      <th>Partner</th>\n",
       "      <th>Dependents</th>\n",
       "      <th>tenure</th>\n",
       "      <th>PhoneService</th>\n",
       "      <th>MultipleLines</th>\n",
       "      <th>InternetService</th>\n",
       "      <th>OnlineSecurity</th>\n",
       "      <th>...</th>\n",
       "      <th>StreamingTV</th>\n",
       "      <th>StreamingMovies</th>\n",
       "      <th>Contract</th>\n",
       "      <th>PaperlessBilling</th>\n",
       "      <th>PaymentMethod</th>\n",
       "      <th>MonthlyCharges</th>\n",
       "      <th>TotalCharges</th>\n",
       "      <th>numAdminTickets</th>\n",
       "      <th>numTechTickets</th>\n",
       "      <th>Churn</th>\n",
       "    </tr>\n",
       "  </thead>\n",
       "  <tbody>\n",
       "    <tr>\n",
       "      <th>0</th>\n",
       "      <td>7590-VHVEG</td>\n",
       "      <td>Female</td>\n",
       "      <td>0</td>\n",
       "      <td>Yes</td>\n",
       "      <td>No</td>\n",
       "      <td>1</td>\n",
       "      <td>No</td>\n",
       "      <td>No phone service</td>\n",
       "      <td>DSL</td>\n",
       "      <td>No</td>\n",
       "      <td>...</td>\n",
       "      <td>No</td>\n",
       "      <td>No</td>\n",
       "      <td>Month-to-month</td>\n",
       "      <td>Yes</td>\n",
       "      <td>Electronic check</td>\n",
       "      <td>29.85</td>\n",
       "      <td>29.85</td>\n",
       "      <td>0</td>\n",
       "      <td>0</td>\n",
       "      <td>No</td>\n",
       "    </tr>\n",
       "    <tr>\n",
       "      <th>1</th>\n",
       "      <td>5575-GNVDE</td>\n",
       "      <td>Male</td>\n",
       "      <td>0</td>\n",
       "      <td>No</td>\n",
       "      <td>No</td>\n",
       "      <td>34</td>\n",
       "      <td>Yes</td>\n",
       "      <td>No</td>\n",
       "      <td>DSL</td>\n",
       "      <td>Yes</td>\n",
       "      <td>...</td>\n",
       "      <td>No</td>\n",
       "      <td>No</td>\n",
       "      <td>One year</td>\n",
       "      <td>No</td>\n",
       "      <td>Mailed check</td>\n",
       "      <td>56.95</td>\n",
       "      <td>1889.5</td>\n",
       "      <td>0</td>\n",
       "      <td>0</td>\n",
       "      <td>No</td>\n",
       "    </tr>\n",
       "  </tbody>\n",
       "</table>\n",
       "<p>2 rows × 23 columns</p>\n",
       "</div>"
      ],
      "text/plain": [
       "   customerID  gender  SeniorCitizen Partner Dependents  tenure PhoneService  \\\n",
       "0  7590-VHVEG  Female              0     Yes         No       1           No   \n",
       "1  5575-GNVDE    Male              0      No         No      34          Yes   \n",
       "\n",
       "      MultipleLines InternetService OnlineSecurity  ... StreamingTV  \\\n",
       "0  No phone service             DSL             No  ...          No   \n",
       "1                No             DSL            Yes  ...          No   \n",
       "\n",
       "  StreamingMovies        Contract PaperlessBilling     PaymentMethod  \\\n",
       "0              No  Month-to-month              Yes  Electronic check   \n",
       "1              No        One year               No      Mailed check   \n",
       "\n",
       "  MonthlyCharges TotalCharges numAdminTickets  numTechTickets Churn  \n",
       "0          29.85        29.85               0               0    No  \n",
       "1          56.95       1889.5               0               0    No  \n",
       "\n",
       "[2 rows x 23 columns]"
      ]
     },
     "execution_count": 50,
     "metadata": {},
     "output_type": "execute_result"
    }
   ],
   "source": [
    "df.head(2)"
   ]
  },
  {
   "cell_type": "markdown",
   "id": "2518f900",
   "metadata": {},
   "source": [
    "### THE PROPORTION OF PEOPLE THAT CHURNED TO THOSE THAT DIDN'T "
   ]
  },
  {
   "cell_type": "code",
   "execution_count": 51,
   "id": "97f56c8b",
   "metadata": {
    "scrolled": false
   },
   "outputs": [
    {
     "data": {
      "text/plain": [
       "No     5174\n",
       "Yes    1869\n",
       "Name: Churn, dtype: int64"
      ]
     },
     "execution_count": 51,
     "metadata": {},
     "output_type": "execute_result"
    }
   ],
   "source": [
    "df.Churn.value_counts()"
   ]
  },
  {
   "cell_type": "markdown",
   "id": "7193b0b2",
   "metadata": {},
   "source": [
    "### DATA EXPLORATION"
   ]
  },
  {
   "cell_type": "code",
   "execution_count": 52,
   "id": "ee219f7e",
   "metadata": {
    "scrolled": true
   },
   "outputs": [
    {
     "name": "stdout",
     "output_type": "stream",
     "text": [
      "<class 'pandas.core.frame.DataFrame'>\n",
      "RangeIndex: 7043 entries, 0 to 7042\n",
      "Data columns (total 23 columns):\n",
      " #   Column            Non-Null Count  Dtype  \n",
      "---  ------            --------------  -----  \n",
      " 0   customerID        7043 non-null   object \n",
      " 1   gender            7043 non-null   object \n",
      " 2   SeniorCitizen     7043 non-null   int64  \n",
      " 3   Partner           7043 non-null   object \n",
      " 4   Dependents        7043 non-null   object \n",
      " 5   tenure            7043 non-null   int64  \n",
      " 6   PhoneService      7043 non-null   object \n",
      " 7   MultipleLines     7043 non-null   object \n",
      " 8   InternetService   7043 non-null   object \n",
      " 9   OnlineSecurity    7043 non-null   object \n",
      " 10  OnlineBackup      7043 non-null   object \n",
      " 11  DeviceProtection  7043 non-null   object \n",
      " 12  TechSupport       7043 non-null   object \n",
      " 13  StreamingTV       7043 non-null   object \n",
      " 14  StreamingMovies   7043 non-null   object \n",
      " 15  Contract          7043 non-null   object \n",
      " 16  PaperlessBilling  7043 non-null   object \n",
      " 17  PaymentMethod     7043 non-null   object \n",
      " 18  MonthlyCharges    7043 non-null   float64\n",
      " 19  TotalCharges      7043 non-null   object \n",
      " 20  numAdminTickets   7043 non-null   int64  \n",
      " 21  numTechTickets    7043 non-null   int64  \n",
      " 22  Churn             7043 non-null   object \n",
      "dtypes: float64(1), int64(4), object(18)\n",
      "memory usage: 1.2+ MB\n"
     ]
    }
   ],
   "source": [
    "df.info()"
   ]
  },
  {
   "cell_type": "markdown",
   "id": "20860e75",
   "metadata": {},
   "source": [
    "#### They are 7043 observations; 23 feautures"
   ]
  },
  {
   "cell_type": "code",
   "execution_count": 53,
   "id": "9f111eff",
   "metadata": {},
   "outputs": [
    {
     "data": {
      "text/html": [
       "<div>\n",
       "<style scoped>\n",
       "    .dataframe tbody tr th:only-of-type {\n",
       "        vertical-align: middle;\n",
       "    }\n",
       "\n",
       "    .dataframe tbody tr th {\n",
       "        vertical-align: top;\n",
       "    }\n",
       "\n",
       "    .dataframe thead th {\n",
       "        text-align: right;\n",
       "    }\n",
       "</style>\n",
       "<table border=\"1\" class=\"dataframe\">\n",
       "  <thead>\n",
       "    <tr style=\"text-align: right;\">\n",
       "      <th></th>\n",
       "      <th>SeniorCitizen</th>\n",
       "      <th>tenure</th>\n",
       "      <th>MonthlyCharges</th>\n",
       "      <th>numAdminTickets</th>\n",
       "      <th>numTechTickets</th>\n",
       "    </tr>\n",
       "  </thead>\n",
       "  <tbody>\n",
       "    <tr>\n",
       "      <th>count</th>\n",
       "      <td>7043.000000</td>\n",
       "      <td>7043.000000</td>\n",
       "      <td>7043.000000</td>\n",
       "      <td>7043.000000</td>\n",
       "      <td>7043.000000</td>\n",
       "    </tr>\n",
       "    <tr>\n",
       "      <th>mean</th>\n",
       "      <td>0.162147</td>\n",
       "      <td>32.371149</td>\n",
       "      <td>64.761692</td>\n",
       "      <td>0.515689</td>\n",
       "      <td>0.419566</td>\n",
       "    </tr>\n",
       "    <tr>\n",
       "      <th>std</th>\n",
       "      <td>0.368612</td>\n",
       "      <td>24.559481</td>\n",
       "      <td>30.090047</td>\n",
       "      <td>1.275299</td>\n",
       "      <td>1.250117</td>\n",
       "    </tr>\n",
       "    <tr>\n",
       "      <th>min</th>\n",
       "      <td>0.000000</td>\n",
       "      <td>0.000000</td>\n",
       "      <td>18.250000</td>\n",
       "      <td>0.000000</td>\n",
       "      <td>0.000000</td>\n",
       "    </tr>\n",
       "    <tr>\n",
       "      <th>25%</th>\n",
       "      <td>0.000000</td>\n",
       "      <td>9.000000</td>\n",
       "      <td>35.500000</td>\n",
       "      <td>0.000000</td>\n",
       "      <td>0.000000</td>\n",
       "    </tr>\n",
       "    <tr>\n",
       "      <th>50%</th>\n",
       "      <td>0.000000</td>\n",
       "      <td>29.000000</td>\n",
       "      <td>70.350000</td>\n",
       "      <td>0.000000</td>\n",
       "      <td>0.000000</td>\n",
       "    </tr>\n",
       "    <tr>\n",
       "      <th>75%</th>\n",
       "      <td>0.000000</td>\n",
       "      <td>55.000000</td>\n",
       "      <td>89.850000</td>\n",
       "      <td>0.000000</td>\n",
       "      <td>0.000000</td>\n",
       "    </tr>\n",
       "    <tr>\n",
       "      <th>max</th>\n",
       "      <td>1.000000</td>\n",
       "      <td>72.000000</td>\n",
       "      <td>118.750000</td>\n",
       "      <td>5.000000</td>\n",
       "      <td>9.000000</td>\n",
       "    </tr>\n",
       "  </tbody>\n",
       "</table>\n",
       "</div>"
      ],
      "text/plain": [
       "       SeniorCitizen       tenure  MonthlyCharges  numAdminTickets  \\\n",
       "count    7043.000000  7043.000000     7043.000000      7043.000000   \n",
       "mean        0.162147    32.371149       64.761692         0.515689   \n",
       "std         0.368612    24.559481       30.090047         1.275299   \n",
       "min         0.000000     0.000000       18.250000         0.000000   \n",
       "25%         0.000000     9.000000       35.500000         0.000000   \n",
       "50%         0.000000    29.000000       70.350000         0.000000   \n",
       "75%         0.000000    55.000000       89.850000         0.000000   \n",
       "max         1.000000    72.000000      118.750000         5.000000   \n",
       "\n",
       "       numTechTickets  \n",
       "count     7043.000000  \n",
       "mean         0.419566  \n",
       "std          1.250117  \n",
       "min          0.000000  \n",
       "25%          0.000000  \n",
       "50%          0.000000  \n",
       "75%          0.000000  \n",
       "max          9.000000  "
      ]
     },
     "execution_count": 53,
     "metadata": {},
     "output_type": "execute_result"
    }
   ],
   "source": [
    "df.describe()"
   ]
  },
  {
   "cell_type": "markdown",
   "id": "cdfc89ef",
   "metadata": {},
   "source": [
    "#### SUMMARIZING THE WHOLE DATASET TO UNDERSTAND THE FEATURES BETTER,LOCATE THE MISPLACED  DATA TYPES AND EXPLORING AND UNDERSTANDING THE UNIQUE VALUES DISTRIBUTION."
   ]
  },
  {
   "cell_type": "code",
   "execution_count": 55,
   "id": "e73e6453",
   "metadata": {},
   "outputs": [
    {
     "name": "stdout",
     "output_type": "stream",
     "text": [
      "Rows     :  7043\n",
      "Columns  :  23\n",
      "\n",
      "Features : \n",
      " ['customerID', 'gender', 'SeniorCitizen', 'Partner', 'Dependents', 'tenure', 'PhoneService', 'MultipleLines', 'InternetService', 'OnlineSecurity', 'OnlineBackup', 'DeviceProtection', 'TechSupport', 'StreamingTV', 'StreamingMovies', 'Contract', 'PaperlessBilling', 'PaymentMethod', 'MonthlyCharges', 'TotalCharges', 'numAdminTickets', 'numTechTickets', 'Churn']\n",
      "\n",
      "Missing values :   0\n",
      "customerID || Type:  object ||  7043  unique values\n",
      "['7590-VHVEG' '5575-GNVDE' '3668-QPYBK' ... '4801-JZAZL' '8361-LTMKD'\n",
      " '3186-AJIEK']\n",
      "********************\n",
      "gender || Type:  object ||  2  unique values\n",
      "['Female' 'Male']\n",
      "********************\n",
      "SeniorCitizen || Type:  int64 ||  2  unique values\n",
      "[0 1]\n",
      "********************\n",
      "Partner || Type:  object ||  2  unique values\n",
      "['Yes' 'No']\n",
      "********************\n",
      "Dependents || Type:  object ||  2  unique values\n",
      "['No' 'Yes']\n",
      "********************\n",
      "tenure || Type:  int64 ||  73  unique values\n",
      "[ 1 34  2 45  8 22 10 28 62 13 16 58 49 25 69 52 71 21 12 30 47 72 17 27\n",
      "  5 46 11 70 63 43 15 60 18 66  9  3 31 50 64 56  7 42 35 48 29 65 38 68\n",
      " 32 55 37 36 41  6  4 33 67 23 57 61 14 20 53 40 59 24 44 19 54 51 26  0\n",
      " 39]\n",
      "********************\n",
      "PhoneService || Type:  object ||  2  unique values\n",
      "['No' 'Yes']\n",
      "********************\n",
      "MultipleLines || Type:  object ||  3  unique values\n",
      "['No phone service' 'No' 'Yes']\n",
      "********************\n",
      "InternetService || Type:  object ||  3  unique values\n",
      "['DSL' 'Fiber optic' 'No']\n",
      "********************\n",
      "OnlineSecurity || Type:  object ||  3  unique values\n",
      "['No' 'Yes' 'No internet service']\n",
      "********************\n",
      "OnlineBackup || Type:  object ||  3  unique values\n",
      "['Yes' 'No' 'No internet service']\n",
      "********************\n",
      "DeviceProtection || Type:  object ||  3  unique values\n",
      "['No' 'Yes' 'No internet service']\n",
      "********************\n",
      "TechSupport || Type:  object ||  3  unique values\n",
      "['No' 'Yes' 'No internet service']\n",
      "********************\n",
      "StreamingTV || Type:  object ||  3  unique values\n",
      "['No' 'Yes' 'No internet service']\n",
      "********************\n",
      "StreamingMovies || Type:  object ||  3  unique values\n",
      "['No' 'Yes' 'No internet service']\n",
      "********************\n",
      "Contract || Type:  object ||  3  unique values\n",
      "['Month-to-month' 'One year' 'Two year']\n",
      "********************\n",
      "PaperlessBilling || Type:  object ||  2  unique values\n",
      "['Yes' 'No']\n",
      "********************\n",
      "PaymentMethod || Type:  object ||  4  unique values\n",
      "['Electronic check' 'Mailed check' 'Bank transfer (automatic)'\n",
      " 'Credit card (automatic)']\n",
      "********************\n",
      "MonthlyCharges || Type:  float64 ||  1585  unique values\n",
      "[29.85 56.95 53.85 ... 63.1  44.2  78.7 ]\n",
      "********************\n",
      "TotalCharges || Type:  object ||  6531  unique values\n",
      "[29.85 1889.5 108.15 ... 346.45 306.6 6844.5]\n",
      "********************\n",
      "numAdminTickets || Type:  int64 ||  6  unique values\n",
      "[0 1 5 2 4 3]\n",
      "********************\n",
      "numTechTickets || Type:  int64 ||  10  unique values\n",
      "[0 3 2 4 1 6 5 7 8 9]\n",
      "********************\n",
      "Churn || Type:  object ||  2  unique values\n",
      "['No' 'Yes']\n",
      "********************\n"
     ]
    }
   ],
   "source": [
    "# Summarize our dataset \n",
    "print (\"Rows     : \" ,df.shape[0])\n",
    "print (\"Columns  : \" ,df.shape[1])\n",
    "print (\"\\nFeatures : \\n\" ,df.columns.tolist())\n",
    "print (\"\\nMissing values :  \", df.isnull().sum().values.sum())\n",
    "#print (\"\\nUnique values :  \\n\",df.nunique())\n",
    "for item in df.columns:\n",
    "    print(item,\"||\",'Type: ', df[item].dtypes,\"|| \" ,df[item].nunique(),\" unique values\")\n",
    "    print (df[item].unique())\n",
    "    print('*' * 20)"
   ]
  },
  {
   "cell_type": "markdown",
   "id": "4e042d31",
   "metadata": {},
   "source": [
    "### It is observed above that total charges is wrongly labelled as an object, to correct to, i convert it into a number"
   ]
  },
  {
   "cell_type": "code",
   "execution_count": 57,
   "id": "9bb80094",
   "metadata": {},
   "outputs": [],
   "source": [
    "df['TotalCharges'] = df['TotalCharges'].replace(r'\\s+', np.nan, regex=True)\n",
    "df['TotalCharges'] = pd.to_numeric(df['TotalCharges'])"
   ]
  },
  {
   "cell_type": "code",
   "execution_count": 58,
   "id": "00b097bb",
   "metadata": {},
   "outputs": [
    {
     "data": {
      "text/plain": [
       "0         29.85\n",
       "1       1889.50\n",
       "2        108.15\n",
       "3       1840.75\n",
       "4        151.65\n",
       "         ...   \n",
       "7038    1990.50\n",
       "7039    7362.90\n",
       "7040     346.45\n",
       "7041     306.60\n",
       "7042    6844.50\n",
       "Name: TotalCharges, Length: 7043, dtype: float64"
      ]
     },
     "execution_count": 58,
     "metadata": {},
     "output_type": "execute_result"
    }
   ],
   "source": [
    "df.TotalCharges"
   ]
  },
  {
   "cell_type": "markdown",
   "id": "e003ebb4",
   "metadata": {},
   "source": [
    "### Converting the values into lower string character"
   ]
  },
  {
   "cell_type": "code",
   "execution_count": 120,
   "id": "cc228dec",
   "metadata": {},
   "outputs": [
    {
     "name": "stdout",
     "output_type": "stream",
     "text": [
      "SeniorCitizen couldn't convert\n",
      "tenure couldn't convert\n",
      "MonthlyCharges couldn't convert\n",
      "numAdminTickets couldn't convert\n",
      "numTechTickets couldn't convert\n"
     ]
    },
    {
     "data": {
      "text/html": [
       "<div>\n",
       "<style scoped>\n",
       "    .dataframe tbody tr th:only-of-type {\n",
       "        vertical-align: middle;\n",
       "    }\n",
       "\n",
       "    .dataframe tbody tr th {\n",
       "        vertical-align: top;\n",
       "    }\n",
       "\n",
       "    .dataframe thead th {\n",
       "        text-align: right;\n",
       "    }\n",
       "</style>\n",
       "<table border=\"1\" class=\"dataframe\">\n",
       "  <thead>\n",
       "    <tr style=\"text-align: right;\">\n",
       "      <th></th>\n",
       "      <th>customerID</th>\n",
       "      <th>gender</th>\n",
       "      <th>SeniorCitizen</th>\n",
       "      <th>Partner</th>\n",
       "      <th>Dependents</th>\n",
       "      <th>tenure</th>\n",
       "      <th>PhoneService</th>\n",
       "      <th>MultipleLines</th>\n",
       "      <th>InternetService</th>\n",
       "      <th>OnlineSecurity</th>\n",
       "      <th>...</th>\n",
       "      <th>StreamingTV</th>\n",
       "      <th>StreamingMovies</th>\n",
       "      <th>Contract</th>\n",
       "      <th>PaperlessBilling</th>\n",
       "      <th>PaymentMethod</th>\n",
       "      <th>MonthlyCharges</th>\n",
       "      <th>TotalCharges</th>\n",
       "      <th>numAdminTickets</th>\n",
       "      <th>numTechTickets</th>\n",
       "      <th>Churn</th>\n",
       "    </tr>\n",
       "  </thead>\n",
       "  <tbody>\n",
       "    <tr>\n",
       "      <th>0</th>\n",
       "      <td>7590-vhveg</td>\n",
       "      <td>female</td>\n",
       "      <td>0</td>\n",
       "      <td>yes</td>\n",
       "      <td>no</td>\n",
       "      <td>1</td>\n",
       "      <td>no</td>\n",
       "      <td>no phone service</td>\n",
       "      <td>dsl</td>\n",
       "      <td>no</td>\n",
       "      <td>...</td>\n",
       "      <td>no</td>\n",
       "      <td>no</td>\n",
       "      <td>month-to-month</td>\n",
       "      <td>yes</td>\n",
       "      <td>electronic check</td>\n",
       "      <td>29.85</td>\n",
       "      <td>NaN</td>\n",
       "      <td>0</td>\n",
       "      <td>0</td>\n",
       "      <td>no</td>\n",
       "    </tr>\n",
       "    <tr>\n",
       "      <th>1</th>\n",
       "      <td>5575-gnvde</td>\n",
       "      <td>male</td>\n",
       "      <td>0</td>\n",
       "      <td>no</td>\n",
       "      <td>no</td>\n",
       "      <td>34</td>\n",
       "      <td>yes</td>\n",
       "      <td>no</td>\n",
       "      <td>dsl</td>\n",
       "      <td>yes</td>\n",
       "      <td>...</td>\n",
       "      <td>no</td>\n",
       "      <td>no</td>\n",
       "      <td>one year</td>\n",
       "      <td>no</td>\n",
       "      <td>mailed check</td>\n",
       "      <td>56.95</td>\n",
       "      <td>NaN</td>\n",
       "      <td>0</td>\n",
       "      <td>0</td>\n",
       "      <td>no</td>\n",
       "    </tr>\n",
       "    <tr>\n",
       "      <th>2</th>\n",
       "      <td>3668-qpybk</td>\n",
       "      <td>male</td>\n",
       "      <td>0</td>\n",
       "      <td>no</td>\n",
       "      <td>no</td>\n",
       "      <td>2</td>\n",
       "      <td>yes</td>\n",
       "      <td>no</td>\n",
       "      <td>dsl</td>\n",
       "      <td>yes</td>\n",
       "      <td>...</td>\n",
       "      <td>no</td>\n",
       "      <td>no</td>\n",
       "      <td>month-to-month</td>\n",
       "      <td>yes</td>\n",
       "      <td>mailed check</td>\n",
       "      <td>53.85</td>\n",
       "      <td>NaN</td>\n",
       "      <td>0</td>\n",
       "      <td>0</td>\n",
       "      <td>yes</td>\n",
       "    </tr>\n",
       "    <tr>\n",
       "      <th>3</th>\n",
       "      <td>7795-cfocw</td>\n",
       "      <td>male</td>\n",
       "      <td>0</td>\n",
       "      <td>no</td>\n",
       "      <td>no</td>\n",
       "      <td>45</td>\n",
       "      <td>no</td>\n",
       "      <td>no phone service</td>\n",
       "      <td>dsl</td>\n",
       "      <td>yes</td>\n",
       "      <td>...</td>\n",
       "      <td>no</td>\n",
       "      <td>no</td>\n",
       "      <td>one year</td>\n",
       "      <td>no</td>\n",
       "      <td>bank transfer (automatic)</td>\n",
       "      <td>42.30</td>\n",
       "      <td>NaN</td>\n",
       "      <td>0</td>\n",
       "      <td>3</td>\n",
       "      <td>no</td>\n",
       "    </tr>\n",
       "    <tr>\n",
       "      <th>4</th>\n",
       "      <td>9237-hqitu</td>\n",
       "      <td>female</td>\n",
       "      <td>0</td>\n",
       "      <td>no</td>\n",
       "      <td>no</td>\n",
       "      <td>2</td>\n",
       "      <td>yes</td>\n",
       "      <td>no</td>\n",
       "      <td>fiber optic</td>\n",
       "      <td>no</td>\n",
       "      <td>...</td>\n",
       "      <td>no</td>\n",
       "      <td>no</td>\n",
       "      <td>month-to-month</td>\n",
       "      <td>yes</td>\n",
       "      <td>electronic check</td>\n",
       "      <td>70.70</td>\n",
       "      <td>NaN</td>\n",
       "      <td>0</td>\n",
       "      <td>0</td>\n",
       "      <td>yes</td>\n",
       "    </tr>\n",
       "  </tbody>\n",
       "</table>\n",
       "<p>5 rows × 23 columns</p>\n",
       "</div>"
      ],
      "text/plain": [
       "   customerID  gender  SeniorCitizen Partner Dependents  tenure PhoneService  \\\n",
       "0  7590-vhveg  female              0     yes         no       1           no   \n",
       "1  5575-gnvde    male              0      no         no      34          yes   \n",
       "2  3668-qpybk    male              0      no         no       2          yes   \n",
       "3  7795-cfocw    male              0      no         no      45           no   \n",
       "4  9237-hqitu  female              0      no         no       2          yes   \n",
       "\n",
       "      MultipleLines InternetService OnlineSecurity  ... StreamingTV  \\\n",
       "0  no phone service             dsl             no  ...          no   \n",
       "1                no             dsl            yes  ...          no   \n",
       "2                no             dsl            yes  ...          no   \n",
       "3  no phone service             dsl            yes  ...          no   \n",
       "4                no     fiber optic             no  ...          no   \n",
       "\n",
       "  StreamingMovies        Contract PaperlessBilling              PaymentMethod  \\\n",
       "0              no  month-to-month              yes           electronic check   \n",
       "1              no        one year               no               mailed check   \n",
       "2              no  month-to-month              yes               mailed check   \n",
       "3              no        one year               no  bank transfer (automatic)   \n",
       "4              no  month-to-month              yes           electronic check   \n",
       "\n",
       "  MonthlyCharges TotalCharges numAdminTickets  numTechTickets Churn  \n",
       "0          29.85          NaN               0               0    no  \n",
       "1          56.95          NaN               0               0    no  \n",
       "2          53.85          NaN               0               0   yes  \n",
       "3          42.30          NaN               0               3    no  \n",
       "4          70.70          NaN               0               0   yes  \n",
       "\n",
       "[5 rows x 23 columns]"
      ]
     },
     "execution_count": 120,
     "metadata": {},
     "output_type": "execute_result"
    }
   ],
   "source": [
    "for item in df.columns:\n",
    "    try:\n",
    "        df[item] = df[item].str.lower()\n",
    "    except:\n",
    "        print(item, \"couldn't convert\")\n",
    "df.head()"
   ]
  },
  {
   "cell_type": "code",
   "execution_count": null,
   "id": "a38a8a59",
   "metadata": {},
   "outputs": [],
   "source": []
  },
  {
   "cell_type": "code",
   "execution_count": null,
   "id": "25105686",
   "metadata": {},
   "outputs": [],
   "source": []
  },
  {
   "cell_type": "code",
   "execution_count": null,
   "id": "6ac866f3",
   "metadata": {},
   "outputs": [],
   "source": []
  },
  {
   "cell_type": "code",
   "execution_count": 4,
   "id": "9e8b0cb5",
   "metadata": {},
   "outputs": [
    {
     "data": {
      "text/plain": [
       "(False, False)"
      ]
     },
     "execution_count": 4,
     "metadata": {},
     "output_type": "execute_result"
    }
   ],
   "source": [
    "# Check for missing data and duplicated customer_IDs\n",
    "df.isna().any().any(), df.customerID.duplicated().any()"
   ]
  },
  {
   "cell_type": "markdown",
   "id": "a2faaeb6",
   "metadata": {},
   "source": [
    "#### With the piece of code above, we are certain they are no missing data and also no duplicated data"
   ]
  },
  {
   "cell_type": "code",
   "execution_count": 67,
   "id": "43bd4439",
   "metadata": {},
   "outputs": [],
   "source": [
    "#making a copy of dataset so as to preserve the original data\n",
    "df2= df.copy()"
   ]
  },
  {
   "cell_type": "markdown",
   "id": "63bc821c",
   "metadata": {},
   "source": [
    "## Made a crosstab to reflect the number and percentage of customers that churned in respect to the freautures that are in the dataset"
   ]
  },
  {
   "cell_type": "code",
   "execution_count": 72,
   "id": "e014519c",
   "metadata": {},
   "outputs": [
    {
     "data": {
      "text/html": [
       "<div>\n",
       "<style scoped>\n",
       "    .dataframe tbody tr th:only-of-type {\n",
       "        vertical-align: middle;\n",
       "    }\n",
       "\n",
       "    .dataframe tbody tr th {\n",
       "        vertical-align: top;\n",
       "    }\n",
       "\n",
       "    .dataframe thead th {\n",
       "        text-align: right;\n",
       "    }\n",
       "</style>\n",
       "<table border=\"1\" class=\"dataframe\">\n",
       "  <thead>\n",
       "    <tr style=\"text-align: right;\">\n",
       "      <th></th>\n",
       "      <th>Churn</th>\n",
       "      <th>no</th>\n",
       "      <th>yes</th>\n",
       "      <th>Churn_Percentage</th>\n",
       "    </tr>\n",
       "  </thead>\n",
       "  <tbody>\n",
       "    <tr>\n",
       "      <th rowspan=\"2\" valign=\"top\">gender</th>\n",
       "      <th>female</th>\n",
       "      <td>2549</td>\n",
       "      <td>939</td>\n",
       "      <td>0.269209</td>\n",
       "    </tr>\n",
       "    <tr>\n",
       "      <th>male</th>\n",
       "      <td>2625</td>\n",
       "      <td>930</td>\n",
       "      <td>0.261603</td>\n",
       "    </tr>\n",
       "    <tr>\n",
       "      <th rowspan=\"2\" valign=\"top\">SeniorCitizen</th>\n",
       "      <th>0</th>\n",
       "      <td>4508</td>\n",
       "      <td>1393</td>\n",
       "      <td>0.236062</td>\n",
       "    </tr>\n",
       "    <tr>\n",
       "      <th>1</th>\n",
       "      <td>666</td>\n",
       "      <td>476</td>\n",
       "      <td>0.416813</td>\n",
       "    </tr>\n",
       "    <tr>\n",
       "      <th rowspan=\"2\" valign=\"top\">Partner</th>\n",
       "      <th>no</th>\n",
       "      <td>2441</td>\n",
       "      <td>1200</td>\n",
       "      <td>0.329580</td>\n",
       "    </tr>\n",
       "    <tr>\n",
       "      <th>yes</th>\n",
       "      <td>2733</td>\n",
       "      <td>669</td>\n",
       "      <td>0.196649</td>\n",
       "    </tr>\n",
       "    <tr>\n",
       "      <th rowspan=\"2\" valign=\"top\">Dependents</th>\n",
       "      <th>no</th>\n",
       "      <td>3390</td>\n",
       "      <td>1543</td>\n",
       "      <td>0.312791</td>\n",
       "    </tr>\n",
       "    <tr>\n",
       "      <th>yes</th>\n",
       "      <td>1784</td>\n",
       "      <td>326</td>\n",
       "      <td>0.154502</td>\n",
       "    </tr>\n",
       "    <tr>\n",
       "      <th rowspan=\"2\" valign=\"top\">PhoneService</th>\n",
       "      <th>no</th>\n",
       "      <td>512</td>\n",
       "      <td>170</td>\n",
       "      <td>0.249267</td>\n",
       "    </tr>\n",
       "    <tr>\n",
       "      <th>yes</th>\n",
       "      <td>4662</td>\n",
       "      <td>1699</td>\n",
       "      <td>0.267096</td>\n",
       "    </tr>\n",
       "    <tr>\n",
       "      <th rowspan=\"3\" valign=\"top\">MultipleLines</th>\n",
       "      <th>no</th>\n",
       "      <td>2541</td>\n",
       "      <td>849</td>\n",
       "      <td>0.250442</td>\n",
       "    </tr>\n",
       "    <tr>\n",
       "      <th>no phone service</th>\n",
       "      <td>512</td>\n",
       "      <td>170</td>\n",
       "      <td>0.249267</td>\n",
       "    </tr>\n",
       "    <tr>\n",
       "      <th>yes</th>\n",
       "      <td>2121</td>\n",
       "      <td>850</td>\n",
       "      <td>0.286099</td>\n",
       "    </tr>\n",
       "    <tr>\n",
       "      <th rowspan=\"3\" valign=\"top\">InternetService</th>\n",
       "      <th>dsl</th>\n",
       "      <td>1962</td>\n",
       "      <td>459</td>\n",
       "      <td>0.189591</td>\n",
       "    </tr>\n",
       "    <tr>\n",
       "      <th>fiber optic</th>\n",
       "      <td>1799</td>\n",
       "      <td>1297</td>\n",
       "      <td>0.418928</td>\n",
       "    </tr>\n",
       "    <tr>\n",
       "      <th>no</th>\n",
       "      <td>1413</td>\n",
       "      <td>113</td>\n",
       "      <td>0.074050</td>\n",
       "    </tr>\n",
       "    <tr>\n",
       "      <th rowspan=\"3\" valign=\"top\">OnlineSecurity</th>\n",
       "      <th>no</th>\n",
       "      <td>2037</td>\n",
       "      <td>1461</td>\n",
       "      <td>0.417667</td>\n",
       "    </tr>\n",
       "    <tr>\n",
       "      <th>no internet service</th>\n",
       "      <td>1413</td>\n",
       "      <td>113</td>\n",
       "      <td>0.074050</td>\n",
       "    </tr>\n",
       "    <tr>\n",
       "      <th>yes</th>\n",
       "      <td>1724</td>\n",
       "      <td>295</td>\n",
       "      <td>0.146112</td>\n",
       "    </tr>\n",
       "    <tr>\n",
       "      <th rowspan=\"3\" valign=\"top\">OnlineBackup</th>\n",
       "      <th>no</th>\n",
       "      <td>1855</td>\n",
       "      <td>1233</td>\n",
       "      <td>0.399288</td>\n",
       "    </tr>\n",
       "    <tr>\n",
       "      <th>no internet service</th>\n",
       "      <td>1413</td>\n",
       "      <td>113</td>\n",
       "      <td>0.074050</td>\n",
       "    </tr>\n",
       "    <tr>\n",
       "      <th>yes</th>\n",
       "      <td>1906</td>\n",
       "      <td>523</td>\n",
       "      <td>0.215315</td>\n",
       "    </tr>\n",
       "    <tr>\n",
       "      <th rowspan=\"3\" valign=\"top\">DeviceProtection</th>\n",
       "      <th>no</th>\n",
       "      <td>1884</td>\n",
       "      <td>1211</td>\n",
       "      <td>0.391276</td>\n",
       "    </tr>\n",
       "    <tr>\n",
       "      <th>no internet service</th>\n",
       "      <td>1413</td>\n",
       "      <td>113</td>\n",
       "      <td>0.074050</td>\n",
       "    </tr>\n",
       "    <tr>\n",
       "      <th>yes</th>\n",
       "      <td>1877</td>\n",
       "      <td>545</td>\n",
       "      <td>0.225021</td>\n",
       "    </tr>\n",
       "    <tr>\n",
       "      <th rowspan=\"3\" valign=\"top\">TechSupport</th>\n",
       "      <th>no</th>\n",
       "      <td>2027</td>\n",
       "      <td>1446</td>\n",
       "      <td>0.416355</td>\n",
       "    </tr>\n",
       "    <tr>\n",
       "      <th>no internet service</th>\n",
       "      <td>1413</td>\n",
       "      <td>113</td>\n",
       "      <td>0.074050</td>\n",
       "    </tr>\n",
       "    <tr>\n",
       "      <th>yes</th>\n",
       "      <td>1734</td>\n",
       "      <td>310</td>\n",
       "      <td>0.151663</td>\n",
       "    </tr>\n",
       "    <tr>\n",
       "      <th rowspan=\"3\" valign=\"top\">StreamingTV</th>\n",
       "      <th>no</th>\n",
       "      <td>1868</td>\n",
       "      <td>942</td>\n",
       "      <td>0.335231</td>\n",
       "    </tr>\n",
       "    <tr>\n",
       "      <th>no internet service</th>\n",
       "      <td>1413</td>\n",
       "      <td>113</td>\n",
       "      <td>0.074050</td>\n",
       "    </tr>\n",
       "    <tr>\n",
       "      <th>yes</th>\n",
       "      <td>1893</td>\n",
       "      <td>814</td>\n",
       "      <td>0.300702</td>\n",
       "    </tr>\n",
       "    <tr>\n",
       "      <th rowspan=\"3\" valign=\"top\">StreamingMovies</th>\n",
       "      <th>no</th>\n",
       "      <td>1847</td>\n",
       "      <td>938</td>\n",
       "      <td>0.336804</td>\n",
       "    </tr>\n",
       "    <tr>\n",
       "      <th>no internet service</th>\n",
       "      <td>1413</td>\n",
       "      <td>113</td>\n",
       "      <td>0.074050</td>\n",
       "    </tr>\n",
       "    <tr>\n",
       "      <th>yes</th>\n",
       "      <td>1914</td>\n",
       "      <td>818</td>\n",
       "      <td>0.299414</td>\n",
       "    </tr>\n",
       "    <tr>\n",
       "      <th rowspan=\"3\" valign=\"top\">Contract</th>\n",
       "      <th>month-to-month</th>\n",
       "      <td>2220</td>\n",
       "      <td>1655</td>\n",
       "      <td>0.427097</td>\n",
       "    </tr>\n",
       "    <tr>\n",
       "      <th>one year</th>\n",
       "      <td>1307</td>\n",
       "      <td>166</td>\n",
       "      <td>0.112695</td>\n",
       "    </tr>\n",
       "    <tr>\n",
       "      <th>two year</th>\n",
       "      <td>1647</td>\n",
       "      <td>48</td>\n",
       "      <td>0.028319</td>\n",
       "    </tr>\n",
       "    <tr>\n",
       "      <th rowspan=\"2\" valign=\"top\">PaperlessBilling</th>\n",
       "      <th>no</th>\n",
       "      <td>2403</td>\n",
       "      <td>469</td>\n",
       "      <td>0.163301</td>\n",
       "    </tr>\n",
       "    <tr>\n",
       "      <th>yes</th>\n",
       "      <td>2771</td>\n",
       "      <td>1400</td>\n",
       "      <td>0.335651</td>\n",
       "    </tr>\n",
       "    <tr>\n",
       "      <th rowspan=\"4\" valign=\"top\">PaymentMethod</th>\n",
       "      <th>bank transfer (automatic)</th>\n",
       "      <td>1286</td>\n",
       "      <td>258</td>\n",
       "      <td>0.167098</td>\n",
       "    </tr>\n",
       "    <tr>\n",
       "      <th>credit card (automatic)</th>\n",
       "      <td>1290</td>\n",
       "      <td>232</td>\n",
       "      <td>0.152431</td>\n",
       "    </tr>\n",
       "    <tr>\n",
       "      <th>electronic check</th>\n",
       "      <td>1294</td>\n",
       "      <td>1071</td>\n",
       "      <td>0.452854</td>\n",
       "    </tr>\n",
       "    <tr>\n",
       "      <th>mailed check</th>\n",
       "      <td>1304</td>\n",
       "      <td>308</td>\n",
       "      <td>0.191067</td>\n",
       "    </tr>\n",
       "    <tr>\n",
       "      <th rowspan=\"6\" valign=\"top\">numAdminTickets</th>\n",
       "      <th>0</th>\n",
       "      <td>4261</td>\n",
       "      <td>1581</td>\n",
       "      <td>0.270626</td>\n",
       "    </tr>\n",
       "    <tr>\n",
       "      <th>1</th>\n",
       "      <td>176</td>\n",
       "      <td>47</td>\n",
       "      <td>0.210762</td>\n",
       "    </tr>\n",
       "    <tr>\n",
       "      <th>2</th>\n",
       "      <td>181</td>\n",
       "      <td>62</td>\n",
       "      <td>0.255144</td>\n",
       "    </tr>\n",
       "    <tr>\n",
       "      <th>3</th>\n",
       "      <td>195</td>\n",
       "      <td>67</td>\n",
       "      <td>0.255725</td>\n",
       "    </tr>\n",
       "    <tr>\n",
       "      <th>4</th>\n",
       "      <td>181</td>\n",
       "      <td>47</td>\n",
       "      <td>0.206140</td>\n",
       "    </tr>\n",
       "    <tr>\n",
       "      <th>5</th>\n",
       "      <td>180</td>\n",
       "      <td>65</td>\n",
       "      <td>0.265306</td>\n",
       "    </tr>\n",
       "    <tr>\n",
       "      <th rowspan=\"10\" valign=\"top\">numTechTickets</th>\n",
       "      <th>0</th>\n",
       "      <td>4877</td>\n",
       "      <td>1196</td>\n",
       "      <td>0.196937</td>\n",
       "    </tr>\n",
       "    <tr>\n",
       "      <th>1</th>\n",
       "      <td>88</td>\n",
       "      <td>168</td>\n",
       "      <td>0.656250</td>\n",
       "    </tr>\n",
       "    <tr>\n",
       "      <th>2</th>\n",
       "      <td>75</td>\n",
       "      <td>126</td>\n",
       "      <td>0.626866</td>\n",
       "    </tr>\n",
       "    <tr>\n",
       "      <th>3</th>\n",
       "      <td>50</td>\n",
       "      <td>101</td>\n",
       "      <td>0.668874</td>\n",
       "    </tr>\n",
       "    <tr>\n",
       "      <th>4</th>\n",
       "      <td>41</td>\n",
       "      <td>92</td>\n",
       "      <td>0.691729</td>\n",
       "    </tr>\n",
       "    <tr>\n",
       "      <th>5</th>\n",
       "      <td>29</td>\n",
       "      <td>87</td>\n",
       "      <td>0.750000</td>\n",
       "    </tr>\n",
       "    <tr>\n",
       "      <th>6</th>\n",
       "      <td>13</td>\n",
       "      <td>59</td>\n",
       "      <td>0.819444</td>\n",
       "    </tr>\n",
       "    <tr>\n",
       "      <th>7</th>\n",
       "      <td>1</td>\n",
       "      <td>28</td>\n",
       "      <td>0.965517</td>\n",
       "    </tr>\n",
       "    <tr>\n",
       "      <th>8</th>\n",
       "      <td>0</td>\n",
       "      <td>11</td>\n",
       "      <td>1.000000</td>\n",
       "    </tr>\n",
       "    <tr>\n",
       "      <th>9</th>\n",
       "      <td>0</td>\n",
       "      <td>1</td>\n",
       "      <td>1.000000</td>\n",
       "    </tr>\n",
       "  </tbody>\n",
       "</table>\n",
       "</div>"
      ],
      "text/plain": [
       "Churn                                         no   yes  Churn_Percentage\n",
       "gender           female                     2549   939          0.269209\n",
       "                 male                       2625   930          0.261603\n",
       "SeniorCitizen    0                          4508  1393          0.236062\n",
       "                 1                           666   476          0.416813\n",
       "Partner          no                         2441  1200          0.329580\n",
       "                 yes                        2733   669          0.196649\n",
       "Dependents       no                         3390  1543          0.312791\n",
       "                 yes                        1784   326          0.154502\n",
       "PhoneService     no                          512   170          0.249267\n",
       "                 yes                        4662  1699          0.267096\n",
       "MultipleLines    no                         2541   849          0.250442\n",
       "                 no phone service            512   170          0.249267\n",
       "                 yes                        2121   850          0.286099\n",
       "InternetService  dsl                        1962   459          0.189591\n",
       "                 fiber optic                1799  1297          0.418928\n",
       "                 no                         1413   113          0.074050\n",
       "OnlineSecurity   no                         2037  1461          0.417667\n",
       "                 no internet service        1413   113          0.074050\n",
       "                 yes                        1724   295          0.146112\n",
       "OnlineBackup     no                         1855  1233          0.399288\n",
       "                 no internet service        1413   113          0.074050\n",
       "                 yes                        1906   523          0.215315\n",
       "DeviceProtection no                         1884  1211          0.391276\n",
       "                 no internet service        1413   113          0.074050\n",
       "                 yes                        1877   545          0.225021\n",
       "TechSupport      no                         2027  1446          0.416355\n",
       "                 no internet service        1413   113          0.074050\n",
       "                 yes                        1734   310          0.151663\n",
       "StreamingTV      no                         1868   942          0.335231\n",
       "                 no internet service        1413   113          0.074050\n",
       "                 yes                        1893   814          0.300702\n",
       "StreamingMovies  no                         1847   938          0.336804\n",
       "                 no internet service        1413   113          0.074050\n",
       "                 yes                        1914   818          0.299414\n",
       "Contract         month-to-month             2220  1655          0.427097\n",
       "                 one year                   1307   166          0.112695\n",
       "                 two year                   1647    48          0.028319\n",
       "PaperlessBilling no                         2403   469          0.163301\n",
       "                 yes                        2771  1400          0.335651\n",
       "PaymentMethod    bank transfer (automatic)  1286   258          0.167098\n",
       "                 credit card (automatic)    1290   232          0.152431\n",
       "                 electronic check           1294  1071          0.452854\n",
       "                 mailed check               1304   308          0.191067\n",
       "numAdminTickets  0                          4261  1581          0.270626\n",
       "                 1                           176    47          0.210762\n",
       "                 2                           181    62          0.255144\n",
       "                 3                           195    67          0.255725\n",
       "                 4                           181    47          0.206140\n",
       "                 5                           180    65          0.265306\n",
       "numTechTickets   0                          4877  1196          0.196937\n",
       "                 1                            88   168          0.656250\n",
       "                 2                            75   126          0.626866\n",
       "                 3                            50   101          0.668874\n",
       "                 4                            41    92          0.691729\n",
       "                 5                            29    87          0.750000\n",
       "                 6                            13    59          0.819444\n",
       "                 7                             1    28          0.965517\n",
       "                 8                             0    11          1.000000\n",
       "                 9                             0     1          1.000000"
      ]
     },
     "execution_count": 72,
     "metadata": {},
     "output_type": "execute_result"
    }
   ],
   "source": [
    "df2.drop(['customerID','MonthlyCharges', 'TotalCharges', 'tenure'], axis=1, inplace=True)\n",
    "#churn_df_copy.head()\n",
    "summary = pd.concat([pd.crosstab(df2[x], df2.Churn) for x in df2.columns[:-1]], keys=df2.columns[:-1])\n",
    "summary['Churn_Percentage'] = summary['yes'] / (summary['no'] + summary['yes'])\n",
    "summary"
   ]
  },
  {
   "cell_type": "markdown",
   "id": "1bb5c05e",
   "metadata": {},
   "source": [
    "## VISUALISATIONS"
   ]
  },
  {
   "cell_type": "code",
   "execution_count": 7,
   "id": "da683a7b",
   "metadata": {},
   "outputs": [],
   "source": [
    "import matplotlib.pyplot as plt # this is used for the plot the graph \n",
    "import seaborn as sns # used for plot interactive graph.\n",
    "from pylab import rcParams # Customize Matplotlib plots using rcParams\n",
    "\n"
   ]
  },
  {
   "cell_type": "markdown",
   "id": "7a86dc7f",
   "metadata": {},
   "source": [
    "### Breakdown of customers that churned"
   ]
  },
  {
   "cell_type": "code",
   "execution_count": 81,
   "id": "4ce8bf86",
   "metadata": {
    "scrolled": true
   },
   "outputs": [
    {
     "data": {
      "image/png": "[encoded data removed]",
      "text/plain": [
       "<Figure size 504x504 with 1 Axes>"
      ]
     },
     "metadata": {},
     "output_type": "display_data"
    }
   ],
   "source": [
    "# Data to plot\n",
    "labels = df['Churn'].value_counts(sort = True).index\n",
    "sizes = df['Churn'].value_counts(sort = True)\n",
    "\n",
    "colors = [\"lightblue\",\"red\"]\n",
    "explode = (0.05,0)  # explode 1st slice\n",
    " \n",
    "rcParams['figure.figsize'] = 7,7\n",
    "# Plot\n",
    "plt.pie(sizes, explode=explode, labels=labels, colors=colors, autopct='%1.1f%%', shadow=True, startangle=90,)\n",
    "\n",
    "plt.title('Customer Churn Breakdown')\n",
    "plt.show()"
   ]
  },
  {
   "cell_type": "markdown",
   "id": "90b0c166",
   "metadata": {},
   "source": [
    "### EXPLORING THE DIFFERENT FEAUTURES OF THE DATA SET AND TRYING TO UNDERSTAND HOW THEY RELATE TO A CUSTOMER CHURNING"
   ]
  },
  {
   "cell_type": "markdown",
   "id": "0ad74060",
   "metadata": {},
   "source": [
    "### CHURN CUSTOMER BY GENDER"
   ]
  },
  {
   "cell_type": "markdown",
   "id": "65fc6891",
   "metadata": {},
   "source": [
    "##### The churn rates for both male and female custimers is similar and gender difference doesn't really explain why customers churn"
   ]
  },
  {
   "cell_type": "code",
   "execution_count": 82,
   "id": "c6fa236c",
   "metadata": {
    "scrolled": true
   },
   "outputs": [
    {
     "data": {
      "image/png": "[encoded data removed]",
      "text/plain": [
       "<Figure size 648x360 with 1 Axes>"
      ]
     },
     "metadata": {
      "needs_background": "light"
     },
     "output_type": "display_data"
    }
   ],
   "source": [
    "#####\n",
    "plt.figure(figsize=(9,5))\n",
    "sns.histplot(data=df, x=\"gender\", hue=\"Churn\", multiple=\"dodge\", palette ='flare',shrink=.5)\n",
    "plt.title('Churn by gender')\n",
    "plt.show()"
   ]
  },
  {
   "cell_type": "markdown",
   "id": "2c284f06",
   "metadata": {},
   "source": [
    "### CHURN CUSTOMER BY SENIOR CITIZEN"
   ]
  },
  {
   "cell_type": "markdown",
   "id": "7367ef66",
   "metadata": {},
   "source": [
    "####     \n",
    "    ~It is noticed that most of our customers are NOT SENIOR CItizens and customers who are senior citizens have a relative more churn percentage than customers who are not senior citizens"
   ]
  },
  {
   "cell_type": "code",
   "execution_count": 18,
   "id": "160f9184",
   "metadata": {},
   "outputs": [
    {
     "data": {
      "text/plain": [
       "Text(0.5, 1.0, 'Churn by SeniorCitizen')"
      ]
     },
     "execution_count": 18,
     "metadata": {},
     "output_type": "execute_result"
    },
    {
     "data": {
      "image/png": "[encoded data removed]",
      "text/plain": [
       "<Figure size 792x360 with 1 Axes>"
      ]
     },
     "metadata": {
      "needs_background": "light"
     },
     "output_type": "display_data"
    }
   ],
   "source": [
    "plt.figure(figsize=(11,5))\n",
    "sns.histplot(data=df, x=\"SeniorCitizen\", hue=\"Churn\", multiple=\"dodge\", palette ='BuGn_r',shrink=.7)\n",
    "plt.title('Churn by SeniorCitizen')"
   ]
  },
  {
   "cell_type": "markdown",
   "id": "a99257cf",
   "metadata": {},
   "source": [
    "### CUSTOMER CHURN BY PARTNER"
   ]
  },
  {
   "cell_type": "markdown",
   "id": "a236d381",
   "metadata": {},
   "source": [
    "#### \n",
    "    ~Customers with partners are more than customers without partners\n",
    "    ~Customers with partners are less likely to churn reelative to those without partners"
   ]
  },
  {
   "cell_type": "code",
   "execution_count": 20,
   "id": "7ab98411",
   "metadata": {
    "scrolled": true
   },
   "outputs": [
    {
     "data": {
      "text/plain": [
       "Text(0.5, 1.0, 'Churn by Partner')"
      ]
     },
     "execution_count": 20,
     "metadata": {},
     "output_type": "execute_result"
    },
    {
     "data": {
      "image/png": "[encoded data removed]",
      "text/plain": [
       "<Figure size 792x360 with 1 Axes>"
      ]
     },
     "metadata": {
      "needs_background": "light"
     },
     "output_type": "display_data"
    }
   ],
   "source": [
    "plt.figure(figsize=(11,5))\n",
    "sns.histplot(data=df, x=\"Partner\", hue=\"Churn\", multiple=\"dodge\", palette ='YlOrBr',shrink=.7)\n",
    "plt.title('Churn by Partner')"
   ]
  },
  {
   "cell_type": "markdown",
   "id": "f27a93b5",
   "metadata": {},
   "source": [
    "### Dependents variable\n",
    "    ~the Dependents feature is a binarry variable that tell wether the cutomer is a depandent or not. and we can see that most customers aren't dependent while churn is fairly present in both types."
   ]
  },
  {
   "cell_type": "code",
   "execution_count": 8,
   "id": "a8826438",
   "metadata": {},
   "outputs": [
    {
     "data": {
      "text/plain": [
       "Text(0.5, 1.0, 'Dependents feature')"
      ]
     },
     "execution_count": 8,
     "metadata": {},
     "output_type": "execute_result"
    },
    {
     "data": {
      "image/png": "[encoded data removed]",
      "text/plain": [
       "<Figure size 648x360 with 1 Axes>"
      ]
     },
     "metadata": {
      "needs_background": "light"
     },
     "output_type": "display_data"
    }
   ],
   "source": [
    "plt.figure(figsize=(9,5))\n",
    "sns.histplot(data=df,x=\"Dependents\",hue='Churn',shrink = .7 ,  palette='rocket' )\n",
    "plt.title('Dependents feature')"
   ]
  },
  {
   "cell_type": "markdown",
   "id": "405761a4",
   "metadata": {},
   "source": [
    "### Tenure Feature\n",
    "    ~looking at the figures below we can tell that the less tenure the customer has the more likely he is about to churn."
   ]
  },
  {
   "cell_type": "code",
   "execution_count": 25,
   "id": "dc67c72c",
   "metadata": {
    "scrolled": true
   },
   "outputs": [
    {
     "data": {
      "text/plain": [
       "Text(0.5, 1.0, 'Tenure feature')"
      ]
     },
     "execution_count": 25,
     "metadata": {},
     "output_type": "execute_result"
    },
    {
     "data": {
      "image/png": "[encoded data removed]",
      "text/plain": [
       "<Figure size 864x576 with 1 Axes>"
      ]
     },
     "metadata": {
      "needs_background": "light"
     },
     "output_type": "display_data"
    }
   ],
   "source": [
    "\n",
    "plt.figure(figsize=(12,8))\n",
    "sns.histplot(data=df,x=\"tenure\",hue='Churn' , palette='BuPu')\n",
    "plt.title('Tenure feature')"
   ]
  },
  {
   "cell_type": "code",
   "execution_count": 34,
   "id": "7941b221",
   "metadata": {},
   "outputs": [
    {
     "name": "stderr",
     "output_type": "stream",
     "text": [
      "C:\\Users\\USER\\anaconda3\\lib\\site-packages\\seaborn\\categorical.py:3717: UserWarning: The `factorplot` function has been renamed to `catplot`. The original name will be removed in a future release. Please update your code. Note that the default `kind` in `factorplot` (`'point'`) has changed `'strip'` in `catplot`.\n",
      "  warnings.warn(msg)\n"
     ]
    },
    {
     "data": {
      "image/png": "[encoded data removed]",
      "text/plain": [
       "<Figure size 360x360 with 1 Axes>"
      ]
     },
     "metadata": {
      "needs_background": "light"
     },
     "output_type": "display_data"
    }
   ],
   "source": [
    "#Lets do a  swarmplot\n",
    "g = sns.factorplot(x=\"Churn\", y = \"tenure\",data = df, kind=\"violin\", palette = \"Pastel1\")"
   ]
  },
  {
   "cell_type": "markdown",
   "id": "9f323447",
   "metadata": {},
   "source": [
    "### Telecom services\n",
    "    ~Services that each customer has signed up for – phone, multiple lines, internet, online security, online backup, device protection, tech support, and streaming TV and movies.The figures below shows the distribution of each service and how it affects shurn ( we can't make conclusion here since we are just exploring the dataset)."
   ]
  },
  {
   "cell_type": "code",
   "execution_count": 28,
   "id": "66fe9ce6",
   "metadata": {},
   "outputs": [
    {
     "data": {
      "text/plain": [
       "<AxesSubplot:xlabel='OnlineSecurity', ylabel='Count'>"
      ]
     },
     "execution_count": 28,
     "metadata": {},
     "output_type": "execute_result"
    },
    {
     "data": {
      "image/png": "[encoded data removed]",
      "text/plain": [
       "<Figure size 1080x864 with 4 Axes>"
      ]
     },
     "metadata": {
      "needs_background": "light"
     },
     "output_type": "display_data"
    }
   ],
   "source": [
    "\n",
    "fig, ax = plt.subplots(2, 2,figsize=(15,12))\n",
    "sns.histplot(data=df,x=\"PhoneService\",hue='Churn', palette='hsv',ax=ax[0,0])\n",
    "sns.histplot(data=df,x=\"MultipleLines\",hue='Churn', palette='magma',ax=ax[0,1])\n",
    "sns.histplot(data=df,x=\"InternetService\",hue='Churn', palette='prism',ax=ax[1,0])\n",
    "sns.histplot(data=df,x='OnlineSecurity',hue='Churn', palette='mako',ax=ax[1,1])"
   ]
  },
  {
   "cell_type": "code",
   "execution_count": 30,
   "id": "7a0d72d9",
   "metadata": {},
   "outputs": [
    {
     "data": {
      "text/plain": [
       "<AxesSubplot:xlabel='StreamingTV', ylabel='Count'>"
      ]
     },
     "execution_count": 30,
     "metadata": {},
     "output_type": "execute_result"
    },
    {
     "data": {
      "image/png": "[encoded data removed]",
      "text/plain": [
       "<Figure size 1080x864 with 4 Axes>"
      ]
     },
     "metadata": {
      "needs_background": "light"
     },
     "output_type": "display_data"
    }
   ],
   "source": [
    "fig, ax = plt.subplots(2,2,figsize=(15,12))\n",
    "sns.histplot(data=df,x=\"OnlineBackup\",hue='Churn', palette='hsv',ax=ax[0,0])\n",
    "sns.histplot(data=df,x=\"DeviceProtection\",hue='Churn', palette='magma',ax=ax[0,1])\n",
    "sns.histplot(data=df,x=\"TechSupport\",hue='Churn', palette='prism',ax=ax[1,0])\n",
    "sns.histplot(data=df,x='StreamingTV',hue='Churn', palette='mako',ax=ax[1,1])"
   ]
  },
  {
   "cell_type": "markdown",
   "id": "463da856",
   "metadata": {},
   "source": [
    "### MONTHLY CHARGES VS CHURN"
   ]
  },
  {
   "cell_type": "markdown",
   "id": "0cd609f5",
   "metadata": {},
   "source": [
    "#### \n",
    "    ~From the visualisations below it is noticed that the more customers PAY monthly for charges, the more the likelihood of them churning "
   ]
  },
  {
   "cell_type": "code",
   "execution_count": 33,
   "id": "b91a7277",
   "metadata": {
    "scrolled": true
   },
   "outputs": [
    {
     "name": "stderr",
     "output_type": "stream",
     "text": [
      "C:\\Users\\USER\\anaconda3\\lib\\site-packages\\seaborn\\categorical.py:3717: UserWarning: The `factorplot` function has been renamed to `catplot`. The original name will be removed in a future release. Please update your code. Note that the default `kind` in `factorplot` (`'point'`) has changed `'strip'` in `catplot`.\n",
      "  warnings.warn(msg)\n"
     ]
    },
    {
     "data": {
      "image/png": "[encoded data removed]",
      "text/plain": [
       "<Figure size 360x360 with 1 Axes>"
      ]
     },
     "metadata": {
      "needs_background": "light"
     },
     "output_type": "display_data"
    }
   ],
   "source": [
    "# Create a Volin Plot showing how monthy charges relate to Churn\n",
    "# We an see that Churned customers tend to be higher paying customers\n",
    "g = sns.factorplot(x=\"Churn\", y = \"MonthlyCharges\",data = df, kind=\"violin\", palette = \"Pastel1\")"
   ]
  },
  {
   "cell_type": "code",
   "execution_count": 11,
   "id": "825d5fe8",
   "metadata": {},
   "outputs": [
    {
     "data": {
      "image/png": "[encoded data removed]",
      "text/plain": [
       "<Figure size 648x360 with 1 Axes>"
      ]
     },
     "metadata": {
      "needs_background": "light"
     },
     "output_type": "display_data"
    }
   ],
   "source": [
    "plt.figure(figsize=(9,5))\n",
    "sns.histplot(data=df,x=\"MonthlyCharges\", palette='hsv',hue='Churn');"
   ]
  },
  {
   "cell_type": "markdown",
   "id": "c27e2b70",
   "metadata": {},
   "source": [
    "### MODELLING"
   ]
  },
  {
   "cell_type": "markdown",
   "id": "aed03ed4",
   "metadata": {},
   "source": [
    "##### FINDING THE CORRELATION WITHIN OUR DATA SET"
   ]
  },
  {
   "cell_type": "code",
   "execution_count": 36,
   "id": "6f06fb44",
   "metadata": {
    "scrolled": true
   },
   "outputs": [
    {
     "name": "stderr",
     "output_type": "stream",
     "text": [
      "No artists with labels found to put in legend.  Note that artists whose label start with an underscore are ignored when legend() is called with no argument.\n"
     ]
    },
    {
     "data": {
      "image/png": "[encoded data removed]",
      "text/plain": [
       "<Figure size 720x720 with 2 Axes>"
      ]
     },
     "metadata": {
      "needs_background": "light"
     },
     "output_type": "display_data"
    }
   ],
   "source": [
    "\n",
    "def plot_corr(df,size=10):\n",
    "    '''Function plots a graphical correlation matrix for each pair of columns in the dataframe.\n",
    "\n",
    "    Input:\n",
    "        df: pandas DataFrame\n",
    "        size: vertical and horizontal size of the plot'''\n",
    "\n",
    "    corr = df.corr()\n",
    "    fig, ax = plt.subplots(figsize=(size, size))\n",
    "    ax.legend()\n",
    "    cax = ax.matshow(corr)\n",
    "    fig.colorbar(cax)\n",
    "    plt.xticks(range(len(corr.columns)), corr.columns, rotation='vertical')\n",
    "    plt.yticks(range(len(corr.columns)), corr.columns)\n",
    "    \n",
    "plot_corr(df)"
   ]
  },
  {
   "cell_type": "markdown",
   "id": "e499e5c8",
   "metadata": {},
   "source": [
    "#### \n",
    "    ~It is noticed that some feautures are still seen to be categorical features so the whole correlation couldnt be show, would convert them to numeric features so that we can check extensively how houch correltion and if theres multi collinearity"
   ]
  },
  {
   "cell_type": "code",
   "execution_count": 124,
   "id": "f6b681ce",
   "metadata": {},
   "outputs": [],
   "source": [
    "df3 = df.copy()\n",
    "columns_to_convert = ['Partner', \n",
    "                      'Dependents', \n",
    "                      'PhoneService', \n",
    "                      'PaperlessBilling', \n",
    "                      'Churn']\n",
    "\n",
    "for item in columns_to_convert:\n",
    "    df3[item].replace(to_replace='yes', value=1, inplace=True)\n",
    "    df3[item].replace(to_replace='no',  value=0, inplace=True)\n",
    "#df3.head()"
   ]
  },
  {
   "cell_type": "code",
   "execution_count": 87,
   "id": "a7bd7d57",
   "metadata": {
    "scrolled": true
   },
   "outputs": [
    {
     "data": {
      "image/png": "[encoded data removed]",
      "text/plain": [
       "<Figure size 1440x720 with 2 Axes>"
      ]
     },
     "metadata": {
      "needs_background": "light"
     },
     "output_type": "display_data"
    }
   ],
   "source": [
    "def show_correlations(dataframe, show_chart = True):\n",
    "    fig = plt.figure(figsize = (20,10))\n",
    "    corr = dataframe.corr()\n",
    "    if show_chart == True:\n",
    "        sns.heatmap(corr, \n",
    "                    xticklabels=corr.columns.values,\n",
    "                    yticklabels=corr.columns.values,\n",
    "                    annot=True)\n",
    "    return corr\n",
    "\n",
    "correlation_df = show_correlations(df3,show_chart=True)"
   ]
  },
  {
   "cell_type": "code",
   "execution_count": 90,
   "id": "f26fce57",
   "metadata": {},
   "outputs": [],
   "source": [
    "try:\n",
    "    customer_id = df3['customerID'] # Store this as customer_id variable\n",
    "    del df3['customerID'] # Don't need in ML DF\n",
    "except:\n",
    "    print(\"already removed customerID\")"
   ]
  },
  {
   "cell_type": "code",
   "execution_count": 91,
   "id": "96b00a1b",
   "metadata": {},
   "outputs": [
    {
     "data": {
      "text/html": [
       "<div>\n",
       "<style scoped>\n",
       "    .dataframe tbody tr th:only-of-type {\n",
       "        vertical-align: middle;\n",
       "    }\n",
       "\n",
       "    .dataframe tbody tr th {\n",
       "        vertical-align: top;\n",
       "    }\n",
       "\n",
       "    .dataframe thead th {\n",
       "        text-align: right;\n",
       "    }\n",
       "</style>\n",
       "<table border=\"1\" class=\"dataframe\">\n",
       "  <thead>\n",
       "    <tr style=\"text-align: right;\">\n",
       "      <th></th>\n",
       "      <th>gender</th>\n",
       "      <th>SeniorCitizen</th>\n",
       "      <th>Partner</th>\n",
       "      <th>Dependents</th>\n",
       "      <th>tenure</th>\n",
       "      <th>PhoneService</th>\n",
       "      <th>MultipleLines</th>\n",
       "      <th>InternetService</th>\n",
       "      <th>OnlineSecurity</th>\n",
       "      <th>OnlineBackup</th>\n",
       "      <th>...</th>\n",
       "      <th>StreamingTV</th>\n",
       "      <th>StreamingMovies</th>\n",
       "      <th>Contract</th>\n",
       "      <th>PaperlessBilling</th>\n",
       "      <th>PaymentMethod</th>\n",
       "      <th>MonthlyCharges</th>\n",
       "      <th>TotalCharges</th>\n",
       "      <th>numAdminTickets</th>\n",
       "      <th>numTechTickets</th>\n",
       "      <th>Churn</th>\n",
       "    </tr>\n",
       "  </thead>\n",
       "  <tbody>\n",
       "    <tr>\n",
       "      <th>0</th>\n",
       "      <td>female</td>\n",
       "      <td>0</td>\n",
       "      <td>1</td>\n",
       "      <td>0</td>\n",
       "      <td>1</td>\n",
       "      <td>0</td>\n",
       "      <td>no phone service</td>\n",
       "      <td>dsl</td>\n",
       "      <td>no</td>\n",
       "      <td>yes</td>\n",
       "      <td>...</td>\n",
       "      <td>no</td>\n",
       "      <td>no</td>\n",
       "      <td>month-to-month</td>\n",
       "      <td>1</td>\n",
       "      <td>electronic check</td>\n",
       "      <td>29.85</td>\n",
       "      <td>29.85</td>\n",
       "      <td>0</td>\n",
       "      <td>0</td>\n",
       "      <td>0</td>\n",
       "    </tr>\n",
       "    <tr>\n",
       "      <th>1</th>\n",
       "      <td>male</td>\n",
       "      <td>0</td>\n",
       "      <td>0</td>\n",
       "      <td>0</td>\n",
       "      <td>34</td>\n",
       "      <td>1</td>\n",
       "      <td>no</td>\n",
       "      <td>dsl</td>\n",
       "      <td>yes</td>\n",
       "      <td>no</td>\n",
       "      <td>...</td>\n",
       "      <td>no</td>\n",
       "      <td>no</td>\n",
       "      <td>one year</td>\n",
       "      <td>0</td>\n",
       "      <td>mailed check</td>\n",
       "      <td>56.95</td>\n",
       "      <td>1889.50</td>\n",
       "      <td>0</td>\n",
       "      <td>0</td>\n",
       "      <td>0</td>\n",
       "    </tr>\n",
       "    <tr>\n",
       "      <th>2</th>\n",
       "      <td>male</td>\n",
       "      <td>0</td>\n",
       "      <td>0</td>\n",
       "      <td>0</td>\n",
       "      <td>2</td>\n",
       "      <td>1</td>\n",
       "      <td>no</td>\n",
       "      <td>dsl</td>\n",
       "      <td>yes</td>\n",
       "      <td>yes</td>\n",
       "      <td>...</td>\n",
       "      <td>no</td>\n",
       "      <td>no</td>\n",
       "      <td>month-to-month</td>\n",
       "      <td>1</td>\n",
       "      <td>mailed check</td>\n",
       "      <td>53.85</td>\n",
       "      <td>108.15</td>\n",
       "      <td>0</td>\n",
       "      <td>0</td>\n",
       "      <td>1</td>\n",
       "    </tr>\n",
       "    <tr>\n",
       "      <th>3</th>\n",
       "      <td>male</td>\n",
       "      <td>0</td>\n",
       "      <td>0</td>\n",
       "      <td>0</td>\n",
       "      <td>45</td>\n",
       "      <td>0</td>\n",
       "      <td>no phone service</td>\n",
       "      <td>dsl</td>\n",
       "      <td>yes</td>\n",
       "      <td>no</td>\n",
       "      <td>...</td>\n",
       "      <td>no</td>\n",
       "      <td>no</td>\n",
       "      <td>one year</td>\n",
       "      <td>0</td>\n",
       "      <td>bank transfer (automatic)</td>\n",
       "      <td>42.30</td>\n",
       "      <td>1840.75</td>\n",
       "      <td>0</td>\n",
       "      <td>3</td>\n",
       "      <td>0</td>\n",
       "    </tr>\n",
       "    <tr>\n",
       "      <th>4</th>\n",
       "      <td>female</td>\n",
       "      <td>0</td>\n",
       "      <td>0</td>\n",
       "      <td>0</td>\n",
       "      <td>2</td>\n",
       "      <td>1</td>\n",
       "      <td>no</td>\n",
       "      <td>fiber optic</td>\n",
       "      <td>no</td>\n",
       "      <td>no</td>\n",
       "      <td>...</td>\n",
       "      <td>no</td>\n",
       "      <td>no</td>\n",
       "      <td>month-to-month</td>\n",
       "      <td>1</td>\n",
       "      <td>electronic check</td>\n",
       "      <td>70.70</td>\n",
       "      <td>151.65</td>\n",
       "      <td>0</td>\n",
       "      <td>0</td>\n",
       "      <td>1</td>\n",
       "    </tr>\n",
       "    <tr>\n",
       "      <th>...</th>\n",
       "      <td>...</td>\n",
       "      <td>...</td>\n",
       "      <td>...</td>\n",
       "      <td>...</td>\n",
       "      <td>...</td>\n",
       "      <td>...</td>\n",
       "      <td>...</td>\n",
       "      <td>...</td>\n",
       "      <td>...</td>\n",
       "      <td>...</td>\n",
       "      <td>...</td>\n",
       "      <td>...</td>\n",
       "      <td>...</td>\n",
       "      <td>...</td>\n",
       "      <td>...</td>\n",
       "      <td>...</td>\n",
       "      <td>...</td>\n",
       "      <td>...</td>\n",
       "      <td>...</td>\n",
       "      <td>...</td>\n",
       "      <td>...</td>\n",
       "    </tr>\n",
       "    <tr>\n",
       "      <th>7038</th>\n",
       "      <td>male</td>\n",
       "      <td>0</td>\n",
       "      <td>1</td>\n",
       "      <td>1</td>\n",
       "      <td>24</td>\n",
       "      <td>1</td>\n",
       "      <td>yes</td>\n",
       "      <td>dsl</td>\n",
       "      <td>yes</td>\n",
       "      <td>no</td>\n",
       "      <td>...</td>\n",
       "      <td>yes</td>\n",
       "      <td>yes</td>\n",
       "      <td>one year</td>\n",
       "      <td>1</td>\n",
       "      <td>mailed check</td>\n",
       "      <td>84.80</td>\n",
       "      <td>1990.50</td>\n",
       "      <td>0</td>\n",
       "      <td>0</td>\n",
       "      <td>0</td>\n",
       "    </tr>\n",
       "    <tr>\n",
       "      <th>7039</th>\n",
       "      <td>female</td>\n",
       "      <td>0</td>\n",
       "      <td>1</td>\n",
       "      <td>1</td>\n",
       "      <td>72</td>\n",
       "      <td>1</td>\n",
       "      <td>yes</td>\n",
       "      <td>fiber optic</td>\n",
       "      <td>no</td>\n",
       "      <td>yes</td>\n",
       "      <td>...</td>\n",
       "      <td>yes</td>\n",
       "      <td>yes</td>\n",
       "      <td>one year</td>\n",
       "      <td>1</td>\n",
       "      <td>credit card (automatic)</td>\n",
       "      <td>103.20</td>\n",
       "      <td>7362.90</td>\n",
       "      <td>0</td>\n",
       "      <td>5</td>\n",
       "      <td>0</td>\n",
       "    </tr>\n",
       "    <tr>\n",
       "      <th>7040</th>\n",
       "      <td>female</td>\n",
       "      <td>0</td>\n",
       "      <td>1</td>\n",
       "      <td>1</td>\n",
       "      <td>11</td>\n",
       "      <td>0</td>\n",
       "      <td>no phone service</td>\n",
       "      <td>dsl</td>\n",
       "      <td>yes</td>\n",
       "      <td>no</td>\n",
       "      <td>...</td>\n",
       "      <td>no</td>\n",
       "      <td>no</td>\n",
       "      <td>month-to-month</td>\n",
       "      <td>1</td>\n",
       "      <td>electronic check</td>\n",
       "      <td>29.60</td>\n",
       "      <td>346.45</td>\n",
       "      <td>0</td>\n",
       "      <td>0</td>\n",
       "      <td>0</td>\n",
       "    </tr>\n",
       "    <tr>\n",
       "      <th>7041</th>\n",
       "      <td>male</td>\n",
       "      <td>1</td>\n",
       "      <td>1</td>\n",
       "      <td>0</td>\n",
       "      <td>4</td>\n",
       "      <td>1</td>\n",
       "      <td>yes</td>\n",
       "      <td>fiber optic</td>\n",
       "      <td>no</td>\n",
       "      <td>no</td>\n",
       "      <td>...</td>\n",
       "      <td>no</td>\n",
       "      <td>no</td>\n",
       "      <td>month-to-month</td>\n",
       "      <td>1</td>\n",
       "      <td>mailed check</td>\n",
       "      <td>74.40</td>\n",
       "      <td>306.60</td>\n",
       "      <td>0</td>\n",
       "      <td>0</td>\n",
       "      <td>1</td>\n",
       "    </tr>\n",
       "    <tr>\n",
       "      <th>7042</th>\n",
       "      <td>male</td>\n",
       "      <td>0</td>\n",
       "      <td>0</td>\n",
       "      <td>0</td>\n",
       "      <td>66</td>\n",
       "      <td>1</td>\n",
       "      <td>no</td>\n",
       "      <td>fiber optic</td>\n",
       "      <td>yes</td>\n",
       "      <td>no</td>\n",
       "      <td>...</td>\n",
       "      <td>yes</td>\n",
       "      <td>yes</td>\n",
       "      <td>two year</td>\n",
       "      <td>1</td>\n",
       "      <td>bank transfer (automatic)</td>\n",
       "      <td>105.65</td>\n",
       "      <td>6844.50</td>\n",
       "      <td>2</td>\n",
       "      <td>0</td>\n",
       "      <td>0</td>\n",
       "    </tr>\n",
       "  </tbody>\n",
       "</table>\n",
       "<p>7043 rows × 22 columns</p>\n",
       "</div>"
      ],
      "text/plain": [
       "      gender  SeniorCitizen  Partner  Dependents  tenure  PhoneService  \\\n",
       "0     female              0        1           0       1             0   \n",
       "1       male              0        0           0      34             1   \n",
       "2       male              0        0           0       2             1   \n",
       "3       male              0        0           0      45             0   \n",
       "4     female              0        0           0       2             1   \n",
       "...      ...            ...      ...         ...     ...           ...   \n",
       "7038    male              0        1           1      24             1   \n",
       "7039  female              0        1           1      72             1   \n",
       "7040  female              0        1           1      11             0   \n",
       "7041    male              1        1           0       4             1   \n",
       "7042    male              0        0           0      66             1   \n",
       "\n",
       "         MultipleLines InternetService OnlineSecurity OnlineBackup  ...  \\\n",
       "0     no phone service             dsl             no          yes  ...   \n",
       "1                   no             dsl            yes           no  ...   \n",
       "2                   no             dsl            yes          yes  ...   \n",
       "3     no phone service             dsl            yes           no  ...   \n",
       "4                   no     fiber optic             no           no  ...   \n",
       "...                ...             ...            ...          ...  ...   \n",
       "7038               yes             dsl            yes           no  ...   \n",
       "7039               yes     fiber optic             no          yes  ...   \n",
       "7040  no phone service             dsl            yes           no  ...   \n",
       "7041               yes     fiber optic             no           no  ...   \n",
       "7042                no     fiber optic            yes           no  ...   \n",
       "\n",
       "     StreamingTV StreamingMovies        Contract PaperlessBilling  \\\n",
       "0             no              no  month-to-month                1   \n",
       "1             no              no        one year                0   \n",
       "2             no              no  month-to-month                1   \n",
       "3             no              no        one year                0   \n",
       "4             no              no  month-to-month                1   \n",
       "...          ...             ...             ...              ...   \n",
       "7038         yes             yes        one year                1   \n",
       "7039         yes             yes        one year                1   \n",
       "7040          no              no  month-to-month                1   \n",
       "7041          no              no  month-to-month                1   \n",
       "7042         yes             yes        two year                1   \n",
       "\n",
       "                  PaymentMethod  MonthlyCharges TotalCharges  numAdminTickets  \\\n",
       "0              electronic check           29.85        29.85                0   \n",
       "1                  mailed check           56.95      1889.50                0   \n",
       "2                  mailed check           53.85       108.15                0   \n",
       "3     bank transfer (automatic)           42.30      1840.75                0   \n",
       "4              electronic check           70.70       151.65                0   \n",
       "...                         ...             ...          ...              ...   \n",
       "7038               mailed check           84.80      1990.50                0   \n",
       "7039    credit card (automatic)          103.20      7362.90                0   \n",
       "7040           electronic check           29.60       346.45                0   \n",
       "7041               mailed check           74.40       306.60                0   \n",
       "7042  bank transfer (automatic)          105.65      6844.50                2   \n",
       "\n",
       "      numTechTickets  Churn  \n",
       "0                  0      0  \n",
       "1                  0      0  \n",
       "2                  0      1  \n",
       "3                  3      0  \n",
       "4                  0      1  \n",
       "...              ...    ...  \n",
       "7038               0      0  \n",
       "7039               5      0  \n",
       "7040               0      0  \n",
       "7041               0      1  \n",
       "7042               0      0  \n",
       "\n",
       "[7043 rows x 22 columns]"
      ]
     },
     "execution_count": 91,
     "metadata": {},
     "output_type": "execute_result"
    }
   ],
   "source": [
    "df3"
   ]
  },
  {
   "cell_type": "markdown",
   "id": "7e9ab1c6",
   "metadata": {},
   "source": [
    "##### Use one-hot encoding to convert categorical data to binary (0 or 1)"
   ]
  },
  {
   "cell_type": "code",
   "execution_count": 92,
   "id": "bb840b99",
   "metadata": {},
   "outputs": [
    {
     "data": {
      "text/html": [
       "<div>\n",
       "<style scoped>\n",
       "    .dataframe tbody tr th:only-of-type {\n",
       "        vertical-align: middle;\n",
       "    }\n",
       "\n",
       "    .dataframe tbody tr th {\n",
       "        vertical-align: top;\n",
       "    }\n",
       "\n",
       "    .dataframe thead th {\n",
       "        text-align: right;\n",
       "    }\n",
       "</style>\n",
       "<table border=\"1\" class=\"dataframe\">\n",
       "  <thead>\n",
       "    <tr style=\"text-align: right;\">\n",
       "      <th></th>\n",
       "      <th>SeniorCitizen</th>\n",
       "      <th>Partner</th>\n",
       "      <th>Dependents</th>\n",
       "      <th>tenure</th>\n",
       "      <th>PhoneService</th>\n",
       "      <th>PaperlessBilling</th>\n",
       "      <th>MonthlyCharges</th>\n",
       "      <th>TotalCharges</th>\n",
       "      <th>numAdminTickets</th>\n",
       "      <th>numTechTickets</th>\n",
       "      <th>...</th>\n",
       "      <th>StreamingMovies_no</th>\n",
       "      <th>StreamingMovies_no internet service</th>\n",
       "      <th>StreamingMovies_yes</th>\n",
       "      <th>Contract_month-to-month</th>\n",
       "      <th>Contract_one year</th>\n",
       "      <th>Contract_two year</th>\n",
       "      <th>PaymentMethod_bank transfer (automatic)</th>\n",
       "      <th>PaymentMethod_credit card (automatic)</th>\n",
       "      <th>PaymentMethod_electronic check</th>\n",
       "      <th>PaymentMethod_mailed check</th>\n",
       "    </tr>\n",
       "  </thead>\n",
       "  <tbody>\n",
       "    <tr>\n",
       "      <th>0</th>\n",
       "      <td>0</td>\n",
       "      <td>1</td>\n",
       "      <td>0</td>\n",
       "      <td>1</td>\n",
       "      <td>0</td>\n",
       "      <td>1</td>\n",
       "      <td>29.85</td>\n",
       "      <td>29.85</td>\n",
       "      <td>0</td>\n",
       "      <td>0</td>\n",
       "      <td>...</td>\n",
       "      <td>1</td>\n",
       "      <td>0</td>\n",
       "      <td>0</td>\n",
       "      <td>1</td>\n",
       "      <td>0</td>\n",
       "      <td>0</td>\n",
       "      <td>0</td>\n",
       "      <td>0</td>\n",
       "      <td>1</td>\n",
       "      <td>0</td>\n",
       "    </tr>\n",
       "    <tr>\n",
       "      <th>1</th>\n",
       "      <td>0</td>\n",
       "      <td>0</td>\n",
       "      <td>0</td>\n",
       "      <td>34</td>\n",
       "      <td>1</td>\n",
       "      <td>0</td>\n",
       "      <td>56.95</td>\n",
       "      <td>1889.50</td>\n",
       "      <td>0</td>\n",
       "      <td>0</td>\n",
       "      <td>...</td>\n",
       "      <td>1</td>\n",
       "      <td>0</td>\n",
       "      <td>0</td>\n",
       "      <td>0</td>\n",
       "      <td>1</td>\n",
       "      <td>0</td>\n",
       "      <td>0</td>\n",
       "      <td>0</td>\n",
       "      <td>0</td>\n",
       "      <td>1</td>\n",
       "    </tr>\n",
       "    <tr>\n",
       "      <th>2</th>\n",
       "      <td>0</td>\n",
       "      <td>0</td>\n",
       "      <td>0</td>\n",
       "      <td>2</td>\n",
       "      <td>1</td>\n",
       "      <td>1</td>\n",
       "      <td>53.85</td>\n",
       "      <td>108.15</td>\n",
       "      <td>0</td>\n",
       "      <td>0</td>\n",
       "      <td>...</td>\n",
       "      <td>1</td>\n",
       "      <td>0</td>\n",
       "      <td>0</td>\n",
       "      <td>1</td>\n",
       "      <td>0</td>\n",
       "      <td>0</td>\n",
       "      <td>0</td>\n",
       "      <td>0</td>\n",
       "      <td>0</td>\n",
       "      <td>1</td>\n",
       "    </tr>\n",
       "    <tr>\n",
       "      <th>3</th>\n",
       "      <td>0</td>\n",
       "      <td>0</td>\n",
       "      <td>0</td>\n",
       "      <td>45</td>\n",
       "      <td>0</td>\n",
       "      <td>0</td>\n",
       "      <td>42.30</td>\n",
       "      <td>1840.75</td>\n",
       "      <td>0</td>\n",
       "      <td>3</td>\n",
       "      <td>...</td>\n",
       "      <td>1</td>\n",
       "      <td>0</td>\n",
       "      <td>0</td>\n",
       "      <td>0</td>\n",
       "      <td>1</td>\n",
       "      <td>0</td>\n",
       "      <td>1</td>\n",
       "      <td>0</td>\n",
       "      <td>0</td>\n",
       "      <td>0</td>\n",
       "    </tr>\n",
       "    <tr>\n",
       "      <th>4</th>\n",
       "      <td>0</td>\n",
       "      <td>0</td>\n",
       "      <td>0</td>\n",
       "      <td>2</td>\n",
       "      <td>1</td>\n",
       "      <td>1</td>\n",
       "      <td>70.70</td>\n",
       "      <td>151.65</td>\n",
       "      <td>0</td>\n",
       "      <td>0</td>\n",
       "      <td>...</td>\n",
       "      <td>1</td>\n",
       "      <td>0</td>\n",
       "      <td>0</td>\n",
       "      <td>1</td>\n",
       "      <td>0</td>\n",
       "      <td>0</td>\n",
       "      <td>0</td>\n",
       "      <td>0</td>\n",
       "      <td>1</td>\n",
       "      <td>0</td>\n",
       "    </tr>\n",
       "  </tbody>\n",
       "</table>\n",
       "<p>5 rows × 44 columns</p>\n",
       "</div>"
      ],
      "text/plain": [
       "   SeniorCitizen  Partner  Dependents  tenure  PhoneService  PaperlessBilling  \\\n",
       "0              0        1           0       1             0                 1   \n",
       "1              0        0           0      34             1                 0   \n",
       "2              0        0           0       2             1                 1   \n",
       "3              0        0           0      45             0                 0   \n",
       "4              0        0           0       2             1                 1   \n",
       "\n",
       "   MonthlyCharges  TotalCharges  numAdminTickets  numTechTickets  ...  \\\n",
       "0           29.85         29.85                0               0  ...   \n",
       "1           56.95       1889.50                0               0  ...   \n",
       "2           53.85        108.15                0               0  ...   \n",
       "3           42.30       1840.75                0               3  ...   \n",
       "4           70.70        151.65                0               0  ...   \n",
       "\n",
       "   StreamingMovies_no  StreamingMovies_no internet service  \\\n",
       "0                   1                                    0   \n",
       "1                   1                                    0   \n",
       "2                   1                                    0   \n",
       "3                   1                                    0   \n",
       "4                   1                                    0   \n",
       "\n",
       "   StreamingMovies_yes  Contract_month-to-month  Contract_one year  \\\n",
       "0                    0                        1                  0   \n",
       "1                    0                        0                  1   \n",
       "2                    0                        1                  0   \n",
       "3                    0                        0                  1   \n",
       "4                    0                        1                  0   \n",
       "\n",
       "   Contract_two year  PaymentMethod_bank transfer (automatic)  \\\n",
       "0                  0                                        0   \n",
       "1                  0                                        0   \n",
       "2                  0                                        0   \n",
       "3                  0                                        1   \n",
       "4                  0                                        0   \n",
       "\n",
       "   PaymentMethod_credit card (automatic)  PaymentMethod_electronic check  \\\n",
       "0                                      0                               1   \n",
       "1                                      0                               0   \n",
       "2                                      0                               0   \n",
       "3                                      0                               0   \n",
       "4                                      0                               1   \n",
       "\n",
       "   PaymentMethod_mailed check  \n",
       "0                           0  \n",
       "1                           1  \n",
       "2                           1  \n",
       "3                           0  \n",
       "4                           0  \n",
       "\n",
       "[5 rows x 44 columns]"
      ]
     },
     "execution_count": 92,
     "metadata": {},
     "output_type": "execute_result"
    }
   ],
   "source": [
    "ml_dummies = pd.get_dummies(df3)\n",
    "ml_dummies.fillna(value=0, inplace=True)\n",
    "ml_dummies.head()"
   ]
  },
  {
   "cell_type": "markdown",
   "id": "49cb325c",
   "metadata": {},
   "source": [
    "#### Checking the correlations after One-Hot encoding"
   ]
  },
  {
   "cell_type": "code",
   "execution_count": 94,
   "id": "2d51e725",
   "metadata": {
    "scrolled": true
   },
   "outputs": [
    {
     "data": {
      "text/plain": [
       "Churn                                      1.000000\n",
       "Contract_month-to-month                    0.405103\n",
       "numTechTickets                             0.357283\n",
       "OnlineSecurity_no                          0.342637\n",
       "TechSupport_no                             0.337281\n",
       "InternetService_fiber optic                0.308020\n",
       "PaymentMethod_electronic check             0.301919\n",
       "OnlineBackup_no                            0.268005\n",
       "DeviceProtection_no                        0.252481\n",
       "MonthlyCharges                             0.193356\n",
       "PaperlessBilling                           0.191825\n",
       "SeniorCitizen                              0.150889\n",
       "StreamingMovies_no                         0.130845\n",
       "StreamingTV_no                             0.128916\n",
       "StreamingTV_yes                            0.063228\n",
       "StreamingMovies_yes                        0.061382\n",
       "MultipleLines_yes                          0.040102\n",
       "PhoneService                               0.011942\n",
       "gender_female                              0.008612\n",
       "gender_male                               -0.008612\n",
       "MultipleLines_no phone service            -0.011942\n",
       "numAdminTickets                           -0.019877\n",
       "MultipleLines_no                          -0.032569\n",
       "DeviceProtection_yes                      -0.066160\n",
       "OnlineBackup_yes                          -0.082255\n",
       "PaymentMethod_mailed check                -0.091683\n",
       "PaymentMethod_bank transfer (automatic)   -0.117937\n",
       "InternetService_dsl                       -0.124214\n",
       "PaymentMethod_credit card (automatic)     -0.134302\n",
       "Partner                                   -0.150448\n",
       "Dependents                                -0.164221\n",
       "TechSupport_yes                           -0.164674\n",
       "OnlineSecurity_yes                        -0.171226\n",
       "Contract_one year                         -0.177820\n",
       "TotalCharges                              -0.198324\n",
       "OnlineSecurity_no internet service        -0.227890\n",
       "StreamingMovies_no internet service       -0.227890\n",
       "InternetService_no                        -0.227890\n",
       "TechSupport_no internet service           -0.227890\n",
       "DeviceProtection_no internet service      -0.227890\n",
       "OnlineBackup_no internet service          -0.227890\n",
       "StreamingTV_no internet service           -0.227890\n",
       "Contract_two year                         -0.302253\n",
       "tenure                                    -0.352229\n",
       "Name: Churn, dtype: float64"
      ]
     },
     "execution_count": 94,
     "metadata": {},
     "output_type": "execute_result"
    },
    {
     "data": {
      "text/plain": [
       "<Figure size 1440x720 with 0 Axes>"
      ]
     },
     "metadata": {},
     "output_type": "display_data"
    }
   ],
   "source": [
    "show_correlations(ml_dummies, show_chart=False)[\"Churn\"].sort_values(ascending=False)"
   ]
  },
  {
   "cell_type": "code",
   "execution_count": 95,
   "id": "bc5a3ddc",
   "metadata": {},
   "outputs": [],
   "source": [
    "try:\n",
    "    label = ml_dummies['Churn'] # Remove the label before training the model\n",
    "    del ml_dummies['Churn']\n",
    "except:\n",
    "    print(\"label already removed.\")"
   ]
  },
  {
   "cell_type": "markdown",
   "id": "e7910191",
   "metadata": {},
   "source": [
    "##### Training our model"
   ]
  },
  {
   "cell_type": "code",
   "execution_count": 135,
   "id": "40af7d91",
   "metadata": {
    "scrolled": true
   },
   "outputs": [
    {
     "name": "stdout",
     "output_type": "stream",
     "text": [
      "KNeighborsClassifier\n",
      "0.768 \n",
      " - - - - -  \n",
      "\n",
      "DecisionTreeClassifier\n",
      "0.847 \n",
      " - - - - -  \n",
      "\n",
      "XGBClassifier\n",
      "0.848 \n",
      " - - - - -  \n",
      "\n"
     ]
    },
    {
     "data": {
      "text/plain": [
       "<AxesSubplot:ylabel='features'>"
      ]
     },
     "execution_count": 135,
     "metadata": {},
     "output_type": "execute_result"
    },
    {
     "data": {
      "image/png": "[encoded data removed]",
      "text/plain": [
       "<Figure size 1440x1080 with 1 Axes>"
      ]
     },
     "metadata": {
      "needs_background": "light"
     },
     "output_type": "display_data"
    }
   ],
   "source": [
    "from sklearn.model_selection import train_test_split\n",
    "feature_train, feature_test, label_train, label_test = train_test_split(ml_dummies, label, test_size=0.3)\n",
    "\n",
    "# Classifiers\n",
    "from sklearn.neighbors import KNeighborsClassifier\n",
    "from sklearn.tree import DecisionTreeClassifier\n",
    "from xgboost import XGBClassifier\n",
    "\n",
    "classifiers = [\n",
    "    KNeighborsClassifier(5),    \n",
    "    DecisionTreeClassifier(max_depth=5),\n",
    "    XGBClassifier(random_state = 42)\n",
    "]\n",
    "    \n",
    "\n",
    "# iterate over classifiers\n",
    "for item in classifiers:\n",
    "    classifier_name = ((str(item)[:(str(item).find(\"(\"))]))\n",
    "    print (classifier_name)\n",
    "    \n",
    "    # Create classifier, train it and test it.\n",
    "    clf = item\n",
    "    clf.fit(feature_train, label_train)\n",
    "    pred = clf.predict(feature_test)\n",
    "    score = clf.score(feature_test, label_test)\n",
    "    print (round(score,3),\"\\n\", \"- - - - - \", \"\\n\")\n",
    "    \n",
    "feature_df = pd.DataFrame()\n",
    "feature_df['features'] = ml_dummies.columns\n",
    "feature_df['importance'] = clf.feature_importances_\n",
    "feature_df.sort_values(by='importance', ascending=False)    \n",
    "feature_df.set_index(keys='features').sort_values(by='importance', ascending=True).plot(kind='barh', figsize=(20, 15))"
   ]
  },
  {
   "cell_type": "markdown",
   "id": "24cb9859",
   "metadata": {},
   "source": [
    "### Our best model is XGB Classifier"
   ]
  },
  {
   "cell_type": "code",
   "execution_count": 125,
   "id": "dcbcca14",
   "metadata": {},
   "outputs": [],
   "source": [
    "# Preprocessing original dataframe\n",
    "def preprocess_df(dataframe):\n",
    "    x = dataframe.copy()\n",
    "    try:\n",
    "        customer_id = x['customerID']\n",
    "        del x['customerID'] # Don't need in ML DF\n",
    "    except:\n",
    "        print(\"already removed customerID\")\n",
    "    ml_dummies = pd.get_dummies(x)\n",
    "    ml_dummies.fillna(value=0, inplace=True)\n",
    "\n",
    "    # import random done above\n",
    "    #ml_dummies['---randomColumn---'] = np.random.randint(0,1000, size=len(ml_dummies))\n",
    "\n",
    "    try:\n",
    "        label = ml_dummies['Churn']\n",
    "        del ml_dummies['Churn']\n",
    "    except:\n",
    "        print(\"label already removed.\")\n",
    "    return ml_dummies, customer_id, label\n",
    "\n",
    "original_df = preprocess_df(df3)"
   ]
  },
  {
   "cell_type": "code",
   "execution_count": 127,
   "id": "c6959f52",
   "metadata": {},
   "outputs": [
    {
     "name": "stderr",
     "output_type": "stream",
     "text": [
      "C:\\Users\\USER\\anaconda3\\lib\\site-packages\\sklearn\\base.py:493: FutureWarning: The feature names should match those that were passed during fit. Starting version 1.2, an error will be raised.\n",
      "Feature names unseen at fit time:\n",
      "- TotalCharges_ \n",
      "Feature names seen at fit time, yet now missing:\n",
      "- TotalCharges\n",
      "\n",
      "  warnings.warn(message, FutureWarning)\n"
     ]
    }
   ],
   "source": [
    "output_df = original_df[0].copy()\n",
    "#output_df['---randomColumn---']\n",
    "output_df['prediction'] = clf.predict_proba(output_df)[:,1]\n",
    "output_df['churn'] = original_df[2]\n",
    "output_df['customerID'] = original_df[1]"
   ]
  },
  {
   "cell_type": "code",
   "execution_count": 128,
   "id": "379d3413",
   "metadata": {},
   "outputs": [
    {
     "name": "stdout",
     "output_type": "stream",
     "text": [
      "Mean predict proba of churn: 0.44\n",
      "Mean predict proba of NON-churn: 0.29\n"
     ]
    }
   ],
   "source": [
    "print('Mean predict proba of churn:',round(output_df[output_df['churn'] == 1]['prediction'].mean(),2))\n",
    "print('Mean predict proba of NON-churn:',round(output_df[output_df['churn'] == 0]['prediction'].mean(),2))"
   ]
  },
  {
   "cell_type": "markdown",
   "id": "5920c207",
   "metadata": {},
   "source": []
  },
  {
   "cell_type": "markdown",
   "id": "27a39924",
   "metadata": {},
   "source": [
    "### From our predictions, this next dataframe helps us  target the customers who haven't churned but are likely to."
   ]
  },
  {
   "cell_type": "code",
   "execution_count": 130,
   "id": "2dad77e6",
   "metadata": {
    "scrolled": true
   },
   "outputs": [
    {
     "data": {
      "text/html": [
       "<div>\n",
       "<style scoped>\n",
       "    .dataframe tbody tr th:only-of-type {\n",
       "        vertical-align: middle;\n",
       "    }\n",
       "\n",
       "    .dataframe tbody tr th {\n",
       "        vertical-align: top;\n",
       "    }\n",
       "\n",
       "    .dataframe thead th {\n",
       "        text-align: right;\n",
       "    }\n",
       "</style>\n",
       "<table border=\"1\" class=\"dataframe\">\n",
       "  <thead>\n",
       "    <tr style=\"text-align: right;\">\n",
       "      <th></th>\n",
       "      <th>customerID</th>\n",
       "      <th>churn</th>\n",
       "      <th>prediction</th>\n",
       "    </tr>\n",
       "  </thead>\n",
       "  <tbody>\n",
       "    <tr>\n",
       "      <th>0</th>\n",
       "      <td>7590-vhveg</td>\n",
       "      <td>0</td>\n",
       "      <td>0.737374</td>\n",
       "    </tr>\n",
       "    <tr>\n",
       "      <th>1</th>\n",
       "      <td>5575-gnvde</td>\n",
       "      <td>0</td>\n",
       "      <td>0.030822</td>\n",
       "    </tr>\n",
       "    <tr>\n",
       "      <th>3</th>\n",
       "      <td>7795-cfocw</td>\n",
       "      <td>0</td>\n",
       "      <td>0.030822</td>\n",
       "    </tr>\n",
       "    <tr>\n",
       "      <th>6</th>\n",
       "      <td>1452-kiovk</td>\n",
       "      <td>0</td>\n",
       "      <td>0.026455</td>\n",
       "    </tr>\n",
       "    <tr>\n",
       "      <th>7</th>\n",
       "      <td>6713-okomc</td>\n",
       "      <td>0</td>\n",
       "      <td>0.737374</td>\n",
       "    </tr>\n",
       "    <tr>\n",
       "      <th>...</th>\n",
       "      <td>...</td>\n",
       "      <td>...</td>\n",
       "      <td>...</td>\n",
       "    </tr>\n",
       "    <tr>\n",
       "      <th>7037</th>\n",
       "      <td>2569-wgero</td>\n",
       "      <td>0</td>\n",
       "      <td>0.014493</td>\n",
       "    </tr>\n",
       "    <tr>\n",
       "      <th>7038</th>\n",
       "      <td>6840-resvb</td>\n",
       "      <td>0</td>\n",
       "      <td>0.030822</td>\n",
       "    </tr>\n",
       "    <tr>\n",
       "      <th>7039</th>\n",
       "      <td>2234-xaduh</td>\n",
       "      <td>0</td>\n",
       "      <td>0.948357</td>\n",
       "    </tr>\n",
       "    <tr>\n",
       "      <th>7040</th>\n",
       "      <td>4801-jzazl</td>\n",
       "      <td>0</td>\n",
       "      <td>0.737374</td>\n",
       "    </tr>\n",
       "    <tr>\n",
       "      <th>7042</th>\n",
       "      <td>3186-ajiek</td>\n",
       "      <td>0</td>\n",
       "      <td>0.026455</td>\n",
       "    </tr>\n",
       "  </tbody>\n",
       "</table>\n",
       "<p>5174 rows × 3 columns</p>\n",
       "</div>"
      ],
      "text/plain": [
       "      customerID  churn  prediction\n",
       "0     7590-vhveg      0    0.737374\n",
       "1     5575-gnvde      0    0.030822\n",
       "3     7795-cfocw      0    0.030822\n",
       "6     1452-kiovk      0    0.026455\n",
       "7     6713-okomc      0    0.737374\n",
       "...          ...    ...         ...\n",
       "7037  2569-wgero      0    0.014493\n",
       "7038  6840-resvb      0    0.030822\n",
       "7039  2234-xaduh      0    0.948357\n",
       "7040  4801-jzazl      0    0.737374\n",
       "7042  3186-ajiek      0    0.026455\n",
       "\n",
       "[5174 rows x 3 columns]"
      ]
     },
     "execution_count": 130,
     "metadata": {},
     "output_type": "execute_result"
    }
   ],
   "source": [
    "activate = output_df[output_df['churn'] == 0]\n",
    "activate[['customerID','churn','prediction']]"
   ]
  },
  {
   "cell_type": "code",
   "execution_count": null,
   "id": "ceb39815",
   "metadata": {},
   "outputs": [],
   "source": []
  }
 ],
 "metadata": {
  "kernelspec": {
   "display_name": "Python 3 (ipykernel)",
   "language": "python",
   "name": "python3"
  },
  "language_info": {
   "codemirror_mode": {
    "name": "ipython",
    "version": 3
   },
   "file_extension": ".py",
   "mimetype": "text/x-python",
   "name": "python",
   "nbconvert_exporter": "python",
   "pygments_lexer": "ipython3",
   "version": "3.9.12"
  }
 },
 "nbformat": 4,
 "nbformat_minor": 5
}
